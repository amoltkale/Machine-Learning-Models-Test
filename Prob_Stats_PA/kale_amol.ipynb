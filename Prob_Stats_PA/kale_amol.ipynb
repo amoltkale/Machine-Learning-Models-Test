{
 "cells": [
  {
   "cell_type": "markdown",
   "id": "044d375a-afbb-4435-a7f3-3f99b5d29870",
   "metadata": {},
   "source": [
    "## WorkSheet 9"
   ]
  },
  {
   "cell_type": "markdown",
   "id": "f1eecc09-6777-465c-b531-cc049151ced5",
   "metadata": {},
   "source": [
    "**Q.1) Here the function h\\* would be:**\n",
    "\n",
    "\n",
    "class 1 for -1 < x < 0, since between P(x|y=1) = 7/8 * 1/4 = 7/24 is greatest in this range.\n",
    "\n",
    "class 3 for 0 < x < 1, since P(x|y=3) = 1/2 * 1/2 = 1/4 is greatest in this range"
   ]
  },
  {
   "cell_type": "markdown",
   "id": "eb6c6166-abae-46d8-a325-747e7c3dbdd8",
   "metadata": {},
   "source": [
    "**Q.4) Below is the classification code.**"
   ]
  },
  {
   "cell_type": "code",
   "execution_count": 1,
   "id": "b55cf935-4040-4d2c-a8af-a6b5211c7092",
   "metadata": {},
   "outputs": [],
   "source": [
    "from struct import unpack\n",
    "import numpy as np\n",
    "import matplotlib.pylab as plt \n",
    "\n",
    "def loadmnist(imagefile, labelfile):\n",
    "    # Open the images with gzip in read binary mode\n",
    "    images = open(imagefile, 'rb')\n",
    "    labels = open(labelfile, 'rb')\n",
    "\n",
    "    # Get metadata for images\n",
    "    images.read(4)  # skip the magic_number\n",
    "    number_of_images = images.read(4)\n",
    "    number_of_images = unpack('>I', number_of_images)[0]\n",
    "    rows = images.read(4)\n",
    "    rows = unpack('>I', rows)[0]\n",
    "    cols = images.read(4)\n",
    "    cols = unpack('>I', cols)[0]\n",
    "\n",
    "    # Get metadata for labels\n",
    "    labels.read(4)\n",
    "    N = labels.read(4)\n",
    "    N = unpack('>I', N)[0]\n",
    "\n",
    "    # Get data\n",
    "    x = np.zeros((N, rows*cols), dtype=np.uint8)  # Initialize numpy array\n",
    "    y = np.zeros(N, dtype=np.uint8)  # Initialize numpy array\n",
    "    for i in range(N):\n",
    "        for j in range(rows*cols):\n",
    "            tmp_pixel = images.read(1)  # Just a single byte\n",
    "            tmp_pixel = unpack('>B', tmp_pixel)[0]\n",
    "            x[i][j] = tmp_pixel\n",
    "        tmp_label = labels.read(1)\n",
    "        y[i] = unpack('>B', tmp_label)[0]\n",
    "\n",
    "    images.close()\n",
    "    labels.close()\n",
    "    return (x, y)\n",
    "\n",
    "def displaychar(image):\n",
    "    plt.imshow(np.reshape(image, (28,28)), cmap=plt.cm.gray)\n",
    "    plt.axis('off')\n",
    "    plt.show()"
   ]
  },
  {
   "cell_type": "code",
   "execution_count": 2,
   "id": "1579a859-7d88-4d39-9f90-7f0c10e6dbb8",
   "metadata": {},
   "outputs": [],
   "source": [
    "from scipy.stats import multivariate_normal\n"
   ]
  },
  {
   "cell_type": "markdown",
   "id": "2a632b49-394d-476b-a38f-c035f34d357a",
   "metadata": {},
   "source": [
    "**Q4. a) Loading the training images and labels:**"
   ]
  },
  {
   "cell_type": "code",
   "execution_count": 3,
   "id": "f1c24327-90e4-46ae-a131-6121895a4238",
   "metadata": {},
   "outputs": [],
   "source": [
    "x,y = loadmnist('train-images-idx3-ubyte', 'train-labels-idx1-ubyte')"
   ]
  },
  {
   "cell_type": "code",
   "execution_count": 4,
   "id": "ced0ec93-830f-4817-a7f2-d4a90edec4f3",
   "metadata": {},
   "outputs": [
    {
     "name": "stdout",
     "output_type": "stream",
     "text": [
      "Length of x :60000 Length of y :60000\n"
     ]
    }
   ],
   "source": [
    "print(\"Length of x :\"+str(len(x))+ \" Length of y :\"+str(len(y)))"
   ]
  },
  {
   "cell_type": "markdown",
   "id": "135d8fc2-c18a-4457-9268-c31cf5769648",
   "metadata": {},
   "source": [
    "Testing the displaychar method:"
   ]
  },
  {
   "cell_type": "markdown",
   "id": "830b854d-06d6-4be3-bcb0-5f7052ca8206",
   "metadata": {},
   "source": [
    "Splitting the training images into 50k training and 10k validation images:"
   ]
  },
  {
   "cell_type": "markdown",
   "id": "cb3af708-c802-4edf-82a4-16ca3971b912",
   "metadata": {},
   "source": [
    "Loading Test Data:"
   ]
  },
  {
   "cell_type": "code",
   "execution_count": 5,
   "id": "5d6ec93d-b16a-4298-a02d-4a69bfd5cfcc",
   "metadata": {},
   "outputs": [],
   "source": [
    "x_test_images,y_test_labels = loadmnist('t10k-images-idx3-ubyte', 't10k-labels-idx1-ubyte')"
   ]
  },
  {
   "cell_type": "code",
   "execution_count": 50,
   "id": "a01e6653-e43e-4e5d-ad17-e6ad712c3b5d",
   "metadata": {},
   "outputs": [
    {
     "data": {
      "text/plain": [
       "array([7, 2, 1, ..., 4, 5, 6], dtype=uint8)"
      ]
     },
     "execution_count": 50,
     "metadata": {},
     "output_type": "execute_result"
    }
   ],
   "source": [
    "y_test_labels"
   ]
  },
  {
   "cell_type": "markdown",
   "id": "849a07a6-1465-4c30-a9c1-f4f6a0ff6887",
   "metadata": {},
   "source": [
    "**Q4. b) Splitting the data into training and validation set**"
   ]
  },
  {
   "cell_type": "code",
   "execution_count": 6,
   "id": "acb1acc9-9263-4dd0-9289-d2769ea3d866",
   "metadata": {},
   "outputs": [],
   "source": [
    "#putting a random state to make the split more consistent and using sklearn train_test_split to do the separation\n",
    "import numpy as np\n",
    "from sklearn.model_selection import train_test_split\n",
    "X_train_images, X_validation_images, y_train_labels, y_validation_labels = train_test_split(x, y, train_size=50000,random_state=10)"
   ]
  },
  {
   "cell_type": "markdown",
   "id": "1c132347-f2b1-4cff-b1b5-c066bdc35952",
   "metadata": {},
   "source": [
    "**Q4. c) part 1 -  The class probabilities**"
   ]
  },
  {
   "cell_type": "code",
   "execution_count": 7,
   "id": "6d235447-1589-4994-a2f1-b1c3a597fe3e",
   "metadata": {},
   "outputs": [
    {
     "name": "stdout",
     "output_type": "stream",
     "text": [
      "The probability of digit 0 is 0.09986\n",
      "The probability of digit 1 is 0.11276\n",
      "The probability of digit 2 is 0.0984\n",
      "The probability of digit 3 is 0.10306\n",
      "The probability of digit 4 is 0.09678\n",
      "The probability of digit 5 is 0.08998\n",
      "The probability of digit 6 is 0.09852\n",
      "The probability of digit 7 is 0.10268\n",
      "The probability of digit 8 is 0.0977\n",
      "The probability of digit 9 is 0.10026\n"
     ]
    }
   ],
   "source": [
    "#This portion calculates the proportion or the class(digit) probabilities\n",
    "piDict = {}\n",
    "\n",
    "for i in range(10):\n",
    "    fraction = y_train_labels.tolist().count(i)/len(y_train_labels)\n",
    "    piDict[i] = y_train_labels.tolist().count(i)/len(y_train_labels)\n",
    "    print(\"The probability of digit \"+str(i)+\" is \"+str(fraction))"
   ]
  },
  {
   "cell_type": "code",
   "execution_count": 8,
   "id": "f3837d52-e477-4e92-9766-b31c5b344d84",
   "metadata": {},
   "outputs": [],
   "source": [
    "#This method gives a matrix of image for corresponding class/digit label.\n",
    "def getImageMatrixForDigit(digit):\n",
    "    idxs = np.where(y_train_labels == digit)\n",
    "    return X_train_images[idxs]"
   ]
  },
  {
   "cell_type": "code",
   "execution_count": 9,
   "id": "e1ce3713-1b27-4fef-94b2-811bec738421",
   "metadata": {},
   "outputs": [],
   "source": [
    "#This routine needs the value of constant c , the images and labels data set you want to predict labels for\n",
    "def getActualAndPredictedLabels(c_val,images_dataset,labels_dataset):\n",
    "    digitMeanCovDict = {}\n",
    "    for i in range(10):\n",
    "        digit_mtrx = getImageMatrixForDigit(i)\n",
    "        digit_mean = digit_mtrx.mean(0)\n",
    "        digit_cov = np.cov(digit_mtrx,rowvar=False)\n",
    "        id_mtrx = np.identity(784)*c_val\n",
    "        smoothCov = np.add(digit_cov,id_mtrx)\n",
    "        digitMeanCovDict[i] = [digit_mtrx,digit_mean,smoothCov]\n",
    "    \n",
    "    logpdf_dictionary = {}\n",
    "    for j in range(10):\n",
    "            logPi = np.log(piDict[labels_dataset[j]])\n",
    "            logPDFVal = multivariate_normal.logpdf(images_dataset, mean=digitMeanCovDict[j][1], cov=digitMeanCovDict[j][2])\n",
    "            finalLogPDF = logPi + logPDFVal\n",
    "            logpdf_dictionary[j] = finalLogPDF\n",
    "            \n",
    "            \n",
    "    validation_prediction = []\n",
    "    for i in range(len(labels_dataset)):\n",
    "        digit_dict = {}\n",
    "        for j in range(10):\n",
    "            digit_dict[j] = logpdf_dictionary[j][i]\n",
    "        max_logpdf_digit = max(digit_dict, key=digit_dict.get)\n",
    "        validation_prediction.append((labels_dataset[i],max_logpdf_digit))\n",
    "\n",
    "    return validation_prediction\n",
    "    "
   ]
  },
  {
   "cell_type": "code",
   "execution_count": 10,
   "id": "30f127a7-6e87-415b-8b7b-bc08cb2acd5d",
   "metadata": {},
   "outputs": [],
   "source": [
    "#This method takes the list of tuple(actual lable, predicted label) and calculates the error rate for that predicted set.\n",
    "def calculateErrorRate(actualAndPredictedLabels):\n",
    "    match=filter(lambda x: x[0] == x[1], actualAndPredictedLabels)\n",
    "    nomatch=filter(lambda x: x[0] != x[1], actualAndPredictedLabels)\n",
    "    match_cnt = len(list(match))\n",
    "    nomatch_cnt = len(list(nomatch))\n",
    "    #print(\"c=\"+str(c_val))\n",
    "    return nomatch_cnt/len(y_validation_labels)\n",
    "    "
   ]
  },
  {
   "cell_type": "markdown",
   "id": "d186240b-be2b-4d04-9407-ce9baf4a0bcd",
   "metadata": {},
   "source": [
    "Let's try different values of c to make the covariance matrix smooth"
   ]
  },
  {
   "cell_type": "markdown",
   "id": "9670e379-13ef-4e08-964a-cd3a43bce105",
   "metadata": {},
   "source": [
    "**Q4. d) Finding the constant c value for smoothing the covariance matrix.Smooth cov = cov + c x Identity Matrix.**"
   ]
  },
  {
   "cell_type": "code",
   "execution_count": 11,
   "id": "0500cac7-a00a-45e8-8020-8d18735b4f5b",
   "metadata": {},
   "outputs": [
    {
     "data": {
      "text/plain": [
       "[<matplotlib.lines.Line2D at 0x7f98449e28b0>]"
      ]
     },
     "execution_count": 11,
     "metadata": {},
     "output_type": "execute_result"
    },
    {
     "data": {
      "image/png": "[encoded data removed]",
      "text/plain": [
       "<Figure size 432x288 with 1 Axes>"
      ]
     },
     "metadata": {
      "needs_background": "light"
     },
     "output_type": "display_data"
    }
   ],
   "source": [
    "#c_val and error rate dictionary to plot a graph. I am trying c values starting from 500 to 5000 in increments of 500.\n",
    "c_val_and_err_rate_dict = {}\n",
    "for c_val in range(500, 5000, 500):\n",
    "    actualAndPredictedLabels = getActualAndPredictedLabels(c_val,X_validation_images,y_validation_labels)\n",
    "    err_rt = calculateErrorRate(actualAndPredictedLabels)\n",
    "    c_val_and_err_rate_dict[c_val] = err_rt\n",
    "    \n",
    "import matplotlib.pyplot as plt\n",
    "plt.plot(c_val_and_err_rate_dict.keys(), c_val_and_err_rate_dict.values())"
   ]
  },
  {
   "cell_type": "markdown",
   "id": "dfcf3ad2-6355-4698-b6e0-a87f5515af4c",
   "metadata": {},
   "source": [
    "From the above graph c = 3000 is giving the least error rate or you can say the highest accuracy."
   ]
  },
  {
   "cell_type": "markdown",
   "id": "f2d86f4a-b8e5-45ee-b587-d5a6941d5cf1",
   "metadata": {},
   "source": [
    "**Q4. c) part 2 - From above experiment I have arrived at c = 3000 for best fitting. Hence I am calculating the mean and smoothed covariance matrix part here.**"
   ]
  },
  {
   "cell_type": "code",
   "execution_count": 12,
   "id": "7a4aefe8-a144-42db-825b-5f21dc557d39",
   "metadata": {},
   "outputs": [],
   "source": [
    "digitMeanCovDict = {}\n",
    "for i in range(10):\n",
    "    digit_mtrx = getImageMatrixForDigit(i)\n",
    "    digit_mean = digit_mtrx.mean(0)\n",
    "    digit_cov = np.cov(digit_mtrx,rowvar=False)\n",
    "    id_mtrx = np.identity(784)*3000\n",
    "    smoothCov = np.add(digit_cov,id_mtrx)\n",
    "    digitMeanCovDict[i] = [digit_mtrx,digit_mean,smoothCov]\n"
   ]
  },
  {
   "cell_type": "markdown",
   "id": "9671bc40-6104-42be-8b4c-f42c80fe2c54",
   "metadata": {},
   "source": [
    "**digitMeanCovDict python dictionary had this format {\"digit\":(digit image matrix, mean vector, smoothed covariance matrix)}**"
   ]
  },
  {
   "cell_type": "markdown",
   "id": "59391c14-55ae-4ded-a83e-f3e7ce340c8c",
   "metadata": {},
   "source": [
    "**Q4. e) part 2 - Error rate on the MNIST test set**"
   ]
  },
  {
   "cell_type": "code",
   "execution_count": 13,
   "id": "24d2725b-9d5f-443b-ab49-abe64821ad8a",
   "metadata": {},
   "outputs": [
    {
     "name": "stdout",
     "output_type": "stream",
     "text": [
      "Error rate for test dataset with our model is : 0.0434\n"
     ]
    }
   ],
   "source": [
    "#Error rate for test data\n",
    "testActualAndPredictedLabels = getActualAndPredictedLabels(3000,x_test_images,y_test_labels)\n",
    "err_rt = calculateErrorRate(testActualAndPredictedLabels)\n",
    "print(\"Error rate for test dataset with our model is : \"+str(err_rt))"
   ]
  },
  {
   "cell_type": "markdown",
   "id": "cb297aec-6969-49a4-bc46-bab0a6dc7d68",
   "metadata": {},
   "source": [
    "**Q4. e) part 3 - Out of the misclassified test digits, pick five at random and display them. For each instance,\n",
    "list the posterior probabilities Pr(y|x) of each of the ten classes.**"
   ]
  },
  {
   "cell_type": "code",
   "execution_count": 14,
   "id": "78d83da1-f99b-47e9-b338-77416cd1d731",
   "metadata": {},
   "outputs": [],
   "source": [
    "#pick all wrongly classified labels\n",
    "\n",
    "def condition(x): return x[0] != x[1] # this condition checks in my list of (actual label, predicted label about their inequality)\n",
    "incorrect_predicted_image_idxs = [idx for idx, element in enumerate(testActualAndPredictedLabels) if condition(element)]"
   ]
  },
  {
   "cell_type": "code",
   "execution_count": 15,
   "id": "5fbaf596-6d7a-4f8d-8b9f-46db64a37e1e",
   "metadata": {},
   "outputs": [],
   "source": [
    "#pick 5 out of the above labels\n",
    "import random\n",
    "incorect_predictions_5 = random.sample(incorrect_predicted_image_idxs, 5)"
   ]
  },
  {
   "cell_type": "code",
   "execution_count": 16,
   "id": "734aa166-4f4c-4e69-8afc-31c59d644eca",
   "metadata": {},
   "outputs": [
    {
     "data": {
      "text/plain": [
       "[4671, 667, 4771, 1364, 2532]"
      ]
     },
     "execution_count": 16,
     "metadata": {},
     "output_type": "execute_result"
    }
   ],
   "source": [
    "#Trying to verify indexes for incorrectly predicted labels\n",
    "incorect_predictions_5"
   ]
  },
  {
   "cell_type": "code",
   "execution_count": 17,
   "id": "d8f7a7c3-92a9-4bfb-9718-d21042d1b73f",
   "metadata": {},
   "outputs": [
    {
     "name": "stdout",
     "output_type": "stream",
     "text": [
      "Index of incorrectly classified image: 4671\n",
      "Test Digit :8, Predicted Digit: 3\n",
      "The log values of Pi(j).Pj(x) : -4065.8704417288027\n",
      "\n",
      "Image Display:\n"
     ]
    },
    {
     "data": {
      "image/png": "[encoded data removed]",
      "text/plain": [
       "<Figure size 432x288 with 1 Axes>"
      ]
     },
     "metadata": {
      "needs_background": "light"
     },
     "output_type": "display_data"
    },
    {
     "name": "stdout",
     "output_type": "stream",
     "text": [
      "----------------------------\n",
      "\n",
      "Index of incorrectly classified image: 667\n",
      "Test Digit :7, Predicted Digit: 1\n",
      "The log values of Pi(j).Pj(x) : -4000.463171361502\n",
      "\n",
      "Image Display:\n"
     ]
    },
    {
     "data": {
      "image/png": "[encoded data removed]",
      "text/plain": [
       "<Figure size 432x288 with 1 Axes>"
      ]
     },
     "metadata": {
      "needs_background": "light"
     },
     "output_type": "display_data"
    },
    {
     "name": "stdout",
     "output_type": "stream",
     "text": [
      "----------------------------\n",
      "\n",
      "Index of incorrectly classified image: 4771\n",
      "Test Digit :5, Predicted Digit: 8\n",
      "The log values of Pi(j).Pj(x) : -4054.1208702769773\n",
      "\n",
      "Image Display:\n"
     ]
    },
    {
     "data": {
      "image/png": "[encoded data removed]",
      "text/plain": [
       "<Figure size 432x288 with 1 Axes>"
      ]
     },
     "metadata": {
      "needs_background": "light"
     },
     "output_type": "display_data"
    },
    {
     "name": "stdout",
     "output_type": "stream",
     "text": [
      "----------------------------\n",
      "\n",
      "Index of incorrectly classified image: 1364\n",
      "Test Digit :8, Predicted Digit: 2\n",
      "The log values of Pi(j).Pj(x) : -4100.173527609115\n",
      "\n",
      "Image Display:\n"
     ]
    },
    {
     "data": {
      "image/png": "[encoded data removed]",
      "text/plain": [
       "<Figure size 432x288 with 1 Axes>"
      ]
     },
     "metadata": {
      "needs_background": "light"
     },
     "output_type": "display_data"
    },
    {
     "name": "stdout",
     "output_type": "stream",
     "text": [
      "----------------------------\n",
      "\n",
      "Index of incorrectly classified image: 2532\n",
      "Test Digit :6, Predicted Digit: 1\n",
      "The log values of Pi(j).Pj(x) : -4001.914554323278\n",
      "\n",
      "Image Display:\n"
     ]
    },
    {
     "data": {
      "image/png": "[encoded data removed]",
      "text/plain": [
       "<Figure size 432x288 with 1 Axes>"
      ]
     },
     "metadata": {
      "needs_background": "light"
     },
     "output_type": "display_data"
    },
    {
     "name": "stdout",
     "output_type": "stream",
     "text": [
      "----------------------------\n",
      "\n"
     ]
    }
   ],
   "source": [
    "for idx in incorect_predictions_5:\n",
    "    print(\"Index of incorrectly classified image: \"+str(idx))\n",
    "    test_digit = testActualAndPredictedLabels[idx][0]\n",
    "    print(\"Test Digit :\"+str(test_digit)+\", Predicted Digit: \"+str(testActualAndPredictedLabels[idx][1]))\n",
    "    logPi = np.log(piDict[test_digit])\n",
    "    logPDFVal = multivariate_normal.logpdf(x_test_images[idx], mean=digitMeanCovDict[test_digit][1], cov=digitMeanCovDict[test_digit][2])\n",
    "    finalLogPDF = logPi + logPDFVal\n",
    "    print(\"The log values of Pi(j).Pj(x) : \"+str(finalLogPDF))\n",
    "    print(\"\\nImage Display:\")\n",
    "    displaychar(x_test_images[idx])\n",
    "    print(\"----------------------------\\n\")\n",
    " "
   ]
  },
  {
   "cell_type": "markdown",
   "id": "880b55cd-37dd-4684-9ba0-13ce14bcdb31",
   "metadata": {},
   "source": [
    "## Worksheet 10 "
   ]
  },
  {
   "cell_type": "markdown",
   "id": "e220a4a7-0596-47d5-ae66-b47cdb1f9953",
   "metadata": {},
   "source": [
    "**Q.1) Data set given  -10, -8, 0, 8, 10**\n",
    "\n",
    "    Need to be clustered into k = 3 groups."
   ]
  },
  {
   "cell_type": "markdown",
   "id": "cac159f6-7016-4057-9d4c-1798015aecb1",
   "metadata": {},
   "source": [
    "**Q1.a) The optimal k-measn solution should have below centres**\n",
    "        \n",
    "        First center = -9 i.e mean of 1st cluster\n",
    "        Second center = 0  i.e mean of 2ndt cluster\n",
    "        Third center = 9 i.e mean of 3rd cluster\n",
    "        \n",
    "        Cost = sqr(||-9-(-10)||) + sqr||-9-(-8)|| + sqr(||0||) + sqr(||9-8||) + + sqr(||9-10||)\n",
    "            =  1 + 1 + 0 + 1 + 1\n",
    "            =  4"
   ]
  },
  {
   "cell_type": "markdown",
   "id": "e000297b-30d0-425a-9f8b-815b5d1053c0",
   "metadata": {},
   "source": [
    "**Q1.b) Lloyds's k-means on this data with k = 3**\n",
    "        \n",
    "        mean1 = -10 , mean2 = -8 and mean3 = 0\n",
    "        \n",
    "        There are three clusters set here :\n",
    "        cluster 1 -> -10 \n",
    "        cluster 2 -> -8\n",
    "        cluster 3 -> [0 8 10]\n",
    "        \n",
    "        Initial cluster cost = sqr(||0||) + sqr||0|| + sqr(||0||) + sqr(||0-8||) + + sqr(||0-10||)\n",
    "                             = 0 + 0 + 0 + 64 + 100\n",
    "                             = 164\n",
    "        \n",
    "        Final set of clusters would be as below \n",
    "        cluster 1 -> -10  with center -10\n",
    "        cluster 2 -> -8 with center -8 \n",
    "        cluster 3 -> [0 8 10] with centre = 6 i.e mean of 0 , 8 , 10\n",
    "        \n",
    "        So we are able to get minimum cost in one iteration of convering clusters into their mean as centers.\n",
    "        \n",
    "        Final Cost = sqr(||0||) + sqr||0|| + sqr(||6-0||) + sqr(||6-8||) + + sqr(||6-10||)\n",
    "             = 0 + 0 + 36 + 4 + 16\n",
    "             = 56\n",
    "        \n",
    "        \n",
    "        "
   ]
  },
  {
   "cell_type": "markdown",
   "id": "7ad3e840-005f-4d3a-b767-afa6e2c19786",
   "metadata": {},
   "source": [
    "**Q.2. a) Loading the data**"
   ]
  },
  {
   "cell_type": "code",
   "execution_count": 27,
   "id": "9a1ef937-1c72-4abf-9f8a-0c58c3defb72",
   "metadata": {},
   "outputs": [
    {
     "data": {
      "text/plain": [
       "array([[-1.  , -1.  , -1.  , ...,  2.35,  9.7 ,  8.38],\n",
       "       [39.25,  1.39,  0.  , ..., 58.64, 20.14, 11.39],\n",
       "       [83.4 , 64.79,  0.  , ..., 15.77, 13.41, 15.42],\n",
       "       ...,\n",
       "       [63.57, 43.1 ,  0.  , ..., 35.95, 28.26,  5.  ],\n",
       "       [55.31, 55.46,  0.  , ...,  5.04, 18.89, 72.99],\n",
       "       [10.22, 21.53, 27.73, ...,  3.96, 14.05, 37.98]])"
      ]
     },
     "execution_count": 27,
     "metadata": {},
     "output_type": "execute_result"
    }
   ],
   "source": [
    "import numpy\n",
    "realvalues = numpy.loadtxt(\"Animals_with_Attributes/predicate-matrix-continuous.txt\")\n",
    "realvalues"
   ]
  },
  {
   "cell_type": "code",
   "execution_count": null,
   "id": "c7824d55-c51e-4034-9792-fc7e1c0f5166",
   "metadata": {},
   "outputs": [],
   "source": []
  },
  {
   "cell_type": "code",
   "execution_count": 29,
   "id": "6b65caec-b85a-4c85-9f33-50de62043646",
   "metadata": {},
   "outputs": [
    {
     "data": {
      "text/plain": [
       "(50, 85)"
      ]
     },
     "execution_count": 29,
     "metadata": {},
     "output_type": "execute_result"
    }
   ],
   "source": [
    "realvalues.shape"
   ]
  },
  {
   "cell_type": "code",
   "execution_count": 19,
   "id": "13005bff-6a13-45b7-b926-d84fbf005f15",
   "metadata": {},
   "outputs": [],
   "source": [
    "from sklearn.cluster import KMeans\n",
    "kmeans = KMeans(n_clusters=10,init='k-means++', random_state=0).fit(realvalues)"
   ]
  },
  {
   "cell_type": "code",
   "execution_count": 30,
   "id": "25091661-abe3-4118-a8b5-14fbb37189c6",
   "metadata": {},
   "outputs": [
    {
     "data": {
      "text/plain": [
       "array([0, 9, 2, 8, 4, 4, 0, 4, 2, 4, 3, 3, 1, 5, 1, 0, 6, 2, 5, 6, 5, 1,\n",
       "       5, 8, 6, 3, 3, 5, 3, 7, 0, 1, 4, 3, 1, 8, 5, 0, 5, 0, 1, 5, 1, 3,\n",
       "       9, 4, 2, 3, 5, 2], dtype=int32)"
      ]
     },
     "execution_count": 30,
     "metadata": {},
     "output_type": "execute_result"
    }
   ],
   "source": [
    "#Trying to predict the labels.\n",
    "kmeans.fit_predict(realvalues)"
   ]
  },
  {
   "cell_type": "code",
   "execution_count": 21,
   "id": "d65b2648-1b1a-4ac3-90ed-5cc935f0466e",
   "metadata": {},
   "outputs": [],
   "source": [
    "#creating a labels dataframe for merge with animals df\n",
    "import pandas as pd\n",
    "labels_arr = kmeans.labels_\n",
    "labels_df = pd.DataFrame(data=labels_arr,  columns=[\"label\"])\n"
   ]
  },
  {
   "cell_type": "code",
   "execution_count": 22,
   "id": "08b376ff-a9df-44d8-83d5-b88c66d7f2fd",
   "metadata": {},
   "outputs": [],
   "source": [
    "#loading the animal names in a dataframe\n",
    "import pandas\n",
    "animalnames = pandas.read_csv(\"Animals_with_Attributes/classes.txt\",sep=\"\\t\",names=[\"index\",\"animal\"])\n",
    "#animalnames = numpy.loadtxt(\"Animals_with_Attributes/classes.txt\",delimiter=\"\\t\")\n",
    "animalnames.drop(\"index\", axis=1, inplace=True)\n",
    "#animalnames"
   ]
  },
  {
   "cell_type": "code",
   "execution_count": 23,
   "id": "d0d41057-b11d-47f0-b4ba-d35f55cb4ab3",
   "metadata": {},
   "outputs": [
    {
     "data": {
      "text/plain": [
       "<pandas.core.groupby.generic.DataFrameGroupBy object at 0x7f9842331ac0>"
      ]
     },
     "execution_count": 23,
     "metadata": {},
     "output_type": "execute_result"
    }
   ],
   "source": [
    "#Merging clustered labels and animals df to form groupings of animals for the clusters\n",
    "merged_df = pd.merge(animalnames, labels_df, left_index=True, right_index=True)\n",
    "merged_df.groupby('label')"
   ]
  },
  {
   "cell_type": "code",
   "execution_count": 24,
   "id": "309ced15-b00d-4367-a08e-281b02e3bb0e",
   "metadata": {},
   "outputs": [
    {
     "name": "stdout",
     "output_type": "stream",
     "text": [
      "0\n",
      "      animal  label\n",
      "0   antelope      0\n",
      "6      horse      0\n",
      "15     moose      0\n",
      "30   giraffe      0\n",
      "37     zebra      0\n",
      "39      deer      0\n",
      "1\n",
      "     animal  label\n",
      "12    tiger      1\n",
      "14  leopard      1\n",
      "21      fox      1\n",
      "31     wolf      1\n",
      "34   weasel      1\n",
      "40   bobcat      1\n",
      "42     lion      1\n",
      "2\n",
      "            animal  label\n",
      "2     killer+whale      2\n",
      "8       blue+whale      2\n",
      "17  humpback+whale      2\n",
      "46          walrus      2\n",
      "49         dolphin      2\n",
      "3\n",
      "      animal  label\n",
      "10     skunk      3\n",
      "11      mole      3\n",
      "25   hamster      3\n",
      "26  squirrel      3\n",
      "28    rabbit      3\n",
      "33       rat      3\n",
      "43     mouse      3\n",
      "47   raccoon      3\n",
      "4\n",
      "             animal  label\n",
      "4         dalmatian      4\n",
      "5       persian+cat      4\n",
      "7   german+shepherd      4\n",
      "9       siamese+cat      4\n",
      "32        chihuahua      4\n",
      "45           collie      4\n",
      "5\n",
      "          animal  label\n",
      "13  hippopotamus      5\n",
      "18      elephant      5\n",
      "20            ox      5\n",
      "22         sheep      5\n",
      "27    rhinoceros      5\n",
      "36       buffalo      5\n",
      "38   giant+panda      5\n",
      "41           pig      5\n",
      "48           cow      5\n",
      "6\n",
      "           animal  label\n",
      "16  spider+monkey      6\n",
      "19        gorilla      6\n",
      "24     chimpanzee      6\n",
      "7\n",
      "   animal  label\n",
      "29    bat      7\n",
      "8\n",
      "    animal  label\n",
      "3   beaver      8\n",
      "23    seal      8\n",
      "35   otter      8\n",
      "9\n",
      "          animal  label\n",
      "1   grizzly+bear      9\n",
      "44    polar+bear      9\n"
     ]
    }
   ],
   "source": [
    "#Lets verify the cluster groupings makes sense or not ?\n",
    "for animal, label_group in merged_df.groupby('label'):\n",
    "    print(animal)\n",
    "    print(label_group)"
   ]
  },
  {
   "cell_type": "markdown",
   "id": "87bfff6e-4b3a-4fbc-8a85-1df7fe463853",
   "metadata": {},
   "source": [
    "From the above groupings, it is clear that the clusters and grouping are good to certain extend. Take example of the cluster with label = 6 where spider monkey, gorilla and chimpanzee have been clustered together."
   ]
  },
  {
   "cell_type": "markdown",
   "id": "7eb5cd1b-675c-42df-84f7-1601a2e72e58",
   "metadata": {},
   "source": [
    "**Q2. b) Hierarchical Clustering**"
   ]
  },
  {
   "cell_type": "code",
   "execution_count": 25,
   "id": "4e0698bb-35d0-4fe3-9398-bd7de876e912",
   "metadata": {},
   "outputs": [],
   "source": [
    "from scipy.cluster.hierarchy import dendrogram, linkage\n",
    "from matplotlib import pyplot as plt\n",
    "Z = linkage(realvalues, 'ward')"
   ]
  },
  {
   "cell_type": "code",
   "execution_count": 26,
   "id": "21698478-f31d-499a-b2bc-f618436c6e0e",
   "metadata": {},
   "outputs": [
    {
     "data": {
      "image/png": "[encoded data removed]",
      "text/plain": [
       "<Figure size 1080x1080 with 1 Axes>"
      ]
     },
     "metadata": {
      "needs_background": "light"
     },
     "output_type": "display_data"
    }
   ],
   "source": [
    "from pylab import rcParams\n",
    "rcParams['figure.figsize'] = 15, 15\n",
    "dn = dendrogram(Z,orientation='right',labels=animalnames.values.tolist())\n",
    "plt.show()"
   ]
  },
  {
   "cell_type": "markdown",
   "id": "b613f3f8-de31-48bf-ae15-62e5a4a0df8e",
   "metadata": {},
   "source": [
    "The above dendrogram makes sense in terms of the grouping it has done. So the hierarchical clustering is sensible here."
   ]
  },
  {
   "cell_type": "markdown",
   "id": "da8e3c61-8fb6-46a6-898f-ef78072dfc84",
   "metadata": {},
   "source": [
    "**Q2. c) All the observations are present as markdown cells in earlier two parts . Thanks**"
   ]
  },
  {
   "cell_type": "code",
   "execution_count": 31,
   "id": "e1e91567-f652-43ec-9924-9f8f848b2a97",
   "metadata": {},
   "outputs": [],
   "source": [
    "from sklearn.decomposition import PCA\n",
    "pca = PCA(n_components=2)\n"
   ]
  },
  {
   "cell_type": "code",
   "execution_count": 39,
   "id": "824404f7-5e80-405f-968a-cd03be6c6919",
   "metadata": {},
   "outputs": [],
   "source": [
    "reduced_X = pca.fit_transform(realvalues)"
   ]
  },
  {
   "cell_type": "code",
   "execution_count": 41,
   "id": "0664b882-7b40-4a0a-a34d-6b16bd1de90a",
   "metadata": {},
   "outputs": [],
   "source": [
    "from sklearn.cluster import KMeans\n",
    "kmeans = KMeans(n_clusters=10,init='k-means++', random_state=0)"
   ]
  },
  {
   "cell_type": "code",
   "execution_count": 43,
   "id": "205804df-3ee9-482a-9648-cab9ccda677d",
   "metadata": {},
   "outputs": [],
   "source": [
    "reduced_labels_arr = kmeans.fit_predict(reduced_X)"
   ]
  },
  {
   "cell_type": "code",
   "execution_count": 44,
   "id": "78a0f958-8b42-4aa8-9c46-41cb0347a16a",
   "metadata": {},
   "outputs": [],
   "source": [
    "reduced_labels_df = pd.DataFrame(data=reduced_labels_arr,  columns=[\"label\"])"
   ]
  },
  {
   "cell_type": "code",
   "execution_count": 45,
   "id": "b1fd2a5a-cb24-4f91-b394-c3e2a49382fb",
   "metadata": {},
   "outputs": [
    {
     "data": {
      "text/plain": [
       "<pandas.core.groupby.generic.DataFrameGroupBy object at 0x7f987945d730>"
      ]
     },
     "execution_count": 45,
     "metadata": {},
     "output_type": "execute_result"
    }
   ],
   "source": [
    "#Merging clustered labels and animals df to form groupings of animals for the clusters\n",
    "merged_reduced_df = pd.merge(animalnames, reduced_labels_df, left_index=True, right_index=True)\n",
    "merged_reduced_df.groupby('label')"
   ]
  },
  {
   "cell_type": "code",
   "execution_count": 46,
   "id": "25cba290-ed67-461e-83cf-88fdc38c37f9",
   "metadata": {},
   "outputs": [
    {
     "name": "stdout",
     "output_type": "stream",
     "text": [
      "0\n",
      "     animal  label\n",
      "12    tiger      0\n",
      "14  leopard      0\n",
      "21      fox      0\n",
      "31     wolf      0\n",
      "40   bobcat      0\n",
      "1\n",
      "         animal  label\n",
      "25      hamster      1\n",
      "28       rabbit      1\n",
      "38  giant+panda      1\n",
      "43        mouse      1\n",
      "2\n",
      "            animal  label\n",
      "8       blue+whale      2\n",
      "17  humpback+whale      2\n",
      "46          walrus      2\n",
      "3\n",
      "      animal  label\n",
      "18  elephant      3\n",
      "20        ox      3\n",
      "36   buffalo      3\n",
      "41       pig      3\n",
      "48       cow      3\n",
      "4\n",
      "             animal  label\n",
      "1      grizzly+bear      4\n",
      "7   german+shepherd      4\n",
      "9       siamese+cat      4\n",
      "29              bat      4\n",
      "32        chihuahua      4\n",
      "33              rat      4\n",
      "34           weasel      4\n",
      "42             lion      4\n",
      "47          raccoon      4\n",
      "5\n",
      "        animal  label\n",
      "3       beaver      5\n",
      "35       otter      5\n",
      "44  polar+bear      5\n",
      "6\n",
      "           animal  label\n",
      "4       dalmatian      6\n",
      "5     persian+cat      6\n",
      "10          skunk      6\n",
      "11           mole      6\n",
      "16  spider+monkey      6\n",
      "19        gorilla      6\n",
      "24     chimpanzee      6\n",
      "26       squirrel      6\n",
      "45         collie      6\n",
      "7\n",
      "          animal  label\n",
      "13  hippopotamus      7\n",
      "27    rhinoceros      7\n",
      "8\n",
      "          animal  label\n",
      "2   killer+whale      8\n",
      "23          seal      8\n",
      "49       dolphin      8\n",
      "9\n",
      "      animal  label\n",
      "0   antelope      9\n",
      "6      horse      9\n",
      "15     moose      9\n",
      "22     sheep      9\n",
      "30   giraffe      9\n",
      "37     zebra      9\n",
      "39      deer      9\n"
     ]
    }
   ],
   "source": [
    "#Lets verify the cluster groupings makes sense or not ?\n",
    "for animal, label_group in merged_reduced_df.groupby('label'):\n",
    "    print(animal)\n",
    "    print(label_group)"
   ]
  },
  {
   "cell_type": "code",
   "execution_count": null,
   "id": "9da550e8-0489-49d2-a528-ba9429258ab1",
   "metadata": {},
   "outputs": [],
   "source": []
  }
 ],
 "metadata": {
  "kernelspec": {
   "display_name": "Python 3 (ipykernel)",
   "language": "python",
   "name": "python3"
  },
  "language_info": {
   "codemirror_mode": {
    "name": "ipython",
    "version": 3
   },
   "file_extension": ".py",
   "mimetype": "text/x-python",
   "name": "python",
   "nbconvert_exporter": "python",
   "pygments_lexer": "ipython3",
   "version": "3.8.11"
  }
 },
 "nbformat": 4,
 "nbformat_minor": 5
}
