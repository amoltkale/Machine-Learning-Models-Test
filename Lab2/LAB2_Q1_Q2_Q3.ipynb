{
 "cells": [
  {
   "cell_type": "markdown",
   "id": "192efe79-b1fd-4377-9cb5-a58996e4b8fb",
   "metadata": {},
   "source": [
    "***Question 1***"
   ]
  },
  {
   "cell_type": "markdown",
   "id": "3bfa4f40-f932-47c2-8f98-0434c9fd9843",
   "metadata": {},
   "source": [
    "*a) Strategy:\n",
    "    Using lasso linear regression model. It is useful in some contexts due to its tendency to prefer solutions with fewer non-zero coefficients, \n",
    "    effectively reducing the number of features upon which the given solution is dependent.*"
   ]
  },
  {
   "cell_type": "code",
   "execution_count": 1,
   "id": "fcdd9266-8cc2-47d7-96cb-dcdd254dfe3f",
   "metadata": {},
   "outputs": [],
   "source": [
    "import numpy as np\n",
    "data = np.loadtxt('mystery.dat', delimiter=',')"
   ]
  },
  {
   "cell_type": "markdown",
   "id": "80ef9060-1820-46fa-90ac-e8f5bcc88202",
   "metadata": {},
   "source": [
    "Creating Lasso model with alpha = 0.5"
   ]
  },
  {
   "cell_type": "code",
   "execution_count": 2,
   "id": "1c96dc88-2498-4650-93d6-8e3e4be92b39",
   "metadata": {},
   "outputs": [],
   "source": [
    "from sklearn import linear_model\n",
    "clf = linear_model.Lasso(alpha=0.5)\n"
   ]
  },
  {
   "cell_type": "markdown",
   "id": "5c14d990-b487-4f8e-85d4-3176c8623758",
   "metadata": {},
   "source": [
    "Creating feature data and label data separately."
   ]
  },
  {
   "cell_type": "code",
   "execution_count": 3,
   "id": "5ff1d168-7a6d-4182-bcda-b96a430b4665",
   "metadata": {},
   "outputs": [],
   "source": [
    "feature_date = data[:,:-1] #all but last column\n",
    "label_Data = data[:,-1] #last column"
   ]
  },
  {
   "cell_type": "markdown",
   "id": "4bc5667b-a2a2-4d14-95b5-a35860fe5a60",
   "metadata": {},
   "source": [
    "Fit the model with coordinate descent"
   ]
  },
  {
   "cell_type": "code",
   "execution_count": 4,
   "id": "04800a74-971e-4aea-a586-b93c963ffbfe",
   "metadata": {},
   "outputs": [],
   "source": [
    "clf.fit(feature_date, label_Data)\n",
    "coeff = clf.coef_"
   ]
  },
  {
   "cell_type": "markdown",
   "id": "38afbd47-9196-4016-9e9a-c0758c3f3e56",
   "metadata": {},
   "source": [
    "Taking features in form of indexes"
   ]
  },
  {
   "cell_type": "code",
   "execution_count": 5,
   "id": "6ead9423-8ad1-4d4f-8f4e-8e2536d057c1",
   "metadata": {},
   "outputs": [],
   "source": [
    "selected_feature_idx = np.where(coeff > 0)"
   ]
  },
  {
   "cell_type": "markdown",
   "id": "d19ab21b-6a6e-4127-8d7c-a796a04f1d53",
   "metadata": {},
   "source": [
    "*(b) Which ten features did you identify? You need only give their coordinate numbers, from 1 to 100.*"
   ]
  },
  {
   "cell_type": "code",
   "execution_count": 6,
   "id": "b70e7a86-025c-4aa0-8c50-ef9859f8cd6a",
   "metadata": {},
   "outputs": [
    {
     "name": "stdout",
     "output_type": "stream",
     "text": [
      "selected feature coordinates:  (array([ 1,  2,  4,  6, 10, 12, 16, 18, 22, 26]),)\n"
     ]
    }
   ],
   "source": [
    "print(\"selected feature coordinates: \",selected_feature_idx)"
   ]
  },
  {
   "cell_type": "markdown",
   "id": "6f58207d-bacf-492e-af9d-b811595f1f4e",
   "metadata": {},
   "source": [
    "***Question 2***"
   ]
  },
  {
   "cell_type": "code",
   "execution_count": 7,
   "id": "c6c065d0-7fae-44ab-9d88-555cab3446e0",
   "metadata": {},
   "outputs": [],
   "source": [
    "import pandas as pd\n",
    "import numpy as np\n",
    "\n",
    "seed = 20\n",
    "\n",
    "df = pd.read_csv('heart.csv')\n",
    "\n",
    "from sklearn import preprocessing\n",
    "\n",
    "x_df = df.values #returns a numpy array\n",
    "min_max_scaler = preprocessing.MinMaxScaler()\n",
    "x_scaled = min_max_scaler.fit_transform(x_df)\n",
    "df = pd.DataFrame(x_scaled, columns=df.columns)\n",
    "\n",
    "X = df.iloc[:,:-1]\n",
    "y = df.iloc[:,-1]\n",
    "\n"
   ]
  },
  {
   "cell_type": "markdown",
   "id": "cf18d8b4-9de5-4204-b98e-a81ab085c1cd",
   "metadata": {},
   "source": [
    "*(a) Randomly partition the data into 200 training points and 103 test points. Fit a logistic regression\n",
    "model to the training data and display the coefficients of the model. If you had to choose the\n",
    "three features that were most influential in the model, what would they be?*"
   ]
  },
  {
   "cell_type": "markdown",
   "id": "8f20d5d1-6bda-4e60-b54a-59036899553d",
   "metadata": {},
   "source": [
    "Randomly partition the data into 200 training points and 103 test points. "
   ]
  },
  {
   "cell_type": "code",
   "execution_count": 8,
   "id": "811db930-8085-4ab6-9e32-614d239e4e9a",
   "metadata": {},
   "outputs": [
    {
     "name": "stdout",
     "output_type": "stream",
     "text": [
      "Data Check ...\n"
     ]
    },
    {
     "data": {
      "text/html": [
       "<div>\n",
       "<style scoped>\n",
       "    .dataframe tbody tr th:only-of-type {\n",
       "        vertical-align: middle;\n",
       "    }\n",
       "\n",
       "    .dataframe tbody tr th {\n",
       "        vertical-align: top;\n",
       "    }\n",
       "\n",
       "    .dataframe thead th {\n",
       "        text-align: right;\n",
       "    }\n",
       "</style>\n",
       "<table border=\"1\" class=\"dataframe\">\n",
       "  <thead>\n",
       "    <tr style=\"text-align: right;\">\n",
       "      <th></th>\n",
       "      <th>age</th>\n",
       "      <th>sex</th>\n",
       "      <th>cp</th>\n",
       "      <th>trestbps</th>\n",
       "      <th>chol</th>\n",
       "      <th>fbs</th>\n",
       "      <th>restecg</th>\n",
       "      <th>thalach</th>\n",
       "      <th>exang</th>\n",
       "      <th>oldpeak</th>\n",
       "      <th>slope</th>\n",
       "      <th>ca</th>\n",
       "      <th>thal</th>\n",
       "      <th>target</th>\n",
       "    </tr>\n",
       "  </thead>\n",
       "  <tbody>\n",
       "    <tr>\n",
       "      <th>0</th>\n",
       "      <td>0.708333</td>\n",
       "      <td>1.0</td>\n",
       "      <td>1.000000</td>\n",
       "      <td>0.481132</td>\n",
       "      <td>0.244292</td>\n",
       "      <td>1.0</td>\n",
       "      <td>0.0</td>\n",
       "      <td>0.603053</td>\n",
       "      <td>0.0</td>\n",
       "      <td>0.370968</td>\n",
       "      <td>0.0</td>\n",
       "      <td>0.00</td>\n",
       "      <td>0.333333</td>\n",
       "      <td>1.0</td>\n",
       "    </tr>\n",
       "    <tr>\n",
       "      <th>1</th>\n",
       "      <td>0.166667</td>\n",
       "      <td>1.0</td>\n",
       "      <td>0.666667</td>\n",
       "      <td>0.339623</td>\n",
       "      <td>0.283105</td>\n",
       "      <td>0.0</td>\n",
       "      <td>0.5</td>\n",
       "      <td>0.885496</td>\n",
       "      <td>0.0</td>\n",
       "      <td>0.564516</td>\n",
       "      <td>0.0</td>\n",
       "      <td>0.00</td>\n",
       "      <td>0.666667</td>\n",
       "      <td>1.0</td>\n",
       "    </tr>\n",
       "    <tr>\n",
       "      <th>2</th>\n",
       "      <td>0.250000</td>\n",
       "      <td>0.0</td>\n",
       "      <td>0.333333</td>\n",
       "      <td>0.339623</td>\n",
       "      <td>0.178082</td>\n",
       "      <td>0.0</td>\n",
       "      <td>0.0</td>\n",
       "      <td>0.770992</td>\n",
       "      <td>0.0</td>\n",
       "      <td>0.225806</td>\n",
       "      <td>1.0</td>\n",
       "      <td>0.00</td>\n",
       "      <td>0.666667</td>\n",
       "      <td>1.0</td>\n",
       "    </tr>\n",
       "    <tr>\n",
       "      <th>3</th>\n",
       "      <td>0.562500</td>\n",
       "      <td>1.0</td>\n",
       "      <td>0.333333</td>\n",
       "      <td>0.245283</td>\n",
       "      <td>0.251142</td>\n",
       "      <td>0.0</td>\n",
       "      <td>0.5</td>\n",
       "      <td>0.816794</td>\n",
       "      <td>0.0</td>\n",
       "      <td>0.129032</td>\n",
       "      <td>1.0</td>\n",
       "      <td>0.00</td>\n",
       "      <td>0.666667</td>\n",
       "      <td>1.0</td>\n",
       "    </tr>\n",
       "    <tr>\n",
       "      <th>4</th>\n",
       "      <td>0.583333</td>\n",
       "      <td>0.0</td>\n",
       "      <td>0.000000</td>\n",
       "      <td>0.245283</td>\n",
       "      <td>0.520548</td>\n",
       "      <td>0.0</td>\n",
       "      <td>0.5</td>\n",
       "      <td>0.702290</td>\n",
       "      <td>1.0</td>\n",
       "      <td>0.096774</td>\n",
       "      <td>1.0</td>\n",
       "      <td>0.00</td>\n",
       "      <td>0.666667</td>\n",
       "      <td>1.0</td>\n",
       "    </tr>\n",
       "    <tr>\n",
       "      <th>...</th>\n",
       "      <td>...</td>\n",
       "      <td>...</td>\n",
       "      <td>...</td>\n",
       "      <td>...</td>\n",
       "      <td>...</td>\n",
       "      <td>...</td>\n",
       "      <td>...</td>\n",
       "      <td>...</td>\n",
       "      <td>...</td>\n",
       "      <td>...</td>\n",
       "      <td>...</td>\n",
       "      <td>...</td>\n",
       "      <td>...</td>\n",
       "      <td>...</td>\n",
       "    </tr>\n",
       "    <tr>\n",
       "      <th>298</th>\n",
       "      <td>0.583333</td>\n",
       "      <td>0.0</td>\n",
       "      <td>0.000000</td>\n",
       "      <td>0.433962</td>\n",
       "      <td>0.262557</td>\n",
       "      <td>0.0</td>\n",
       "      <td>0.5</td>\n",
       "      <td>0.396947</td>\n",
       "      <td>1.0</td>\n",
       "      <td>0.032258</td>\n",
       "      <td>0.5</td>\n",
       "      <td>0.00</td>\n",
       "      <td>1.000000</td>\n",
       "      <td>0.0</td>\n",
       "    </tr>\n",
       "    <tr>\n",
       "      <th>299</th>\n",
       "      <td>0.333333</td>\n",
       "      <td>1.0</td>\n",
       "      <td>1.000000</td>\n",
       "      <td>0.150943</td>\n",
       "      <td>0.315068</td>\n",
       "      <td>0.0</td>\n",
       "      <td>0.5</td>\n",
       "      <td>0.465649</td>\n",
       "      <td>0.0</td>\n",
       "      <td>0.193548</td>\n",
       "      <td>0.5</td>\n",
       "      <td>0.00</td>\n",
       "      <td>1.000000</td>\n",
       "      <td>0.0</td>\n",
       "    </tr>\n",
       "    <tr>\n",
       "      <th>300</th>\n",
       "      <td>0.812500</td>\n",
       "      <td>1.0</td>\n",
       "      <td>0.000000</td>\n",
       "      <td>0.471698</td>\n",
       "      <td>0.152968</td>\n",
       "      <td>1.0</td>\n",
       "      <td>0.5</td>\n",
       "      <td>0.534351</td>\n",
       "      <td>0.0</td>\n",
       "      <td>0.548387</td>\n",
       "      <td>0.5</td>\n",
       "      <td>0.50</td>\n",
       "      <td>1.000000</td>\n",
       "      <td>0.0</td>\n",
       "    </tr>\n",
       "    <tr>\n",
       "      <th>301</th>\n",
       "      <td>0.583333</td>\n",
       "      <td>1.0</td>\n",
       "      <td>0.000000</td>\n",
       "      <td>0.339623</td>\n",
       "      <td>0.011416</td>\n",
       "      <td>0.0</td>\n",
       "      <td>0.5</td>\n",
       "      <td>0.335878</td>\n",
       "      <td>1.0</td>\n",
       "      <td>0.193548</td>\n",
       "      <td>0.5</td>\n",
       "      <td>0.25</td>\n",
       "      <td>1.000000</td>\n",
       "      <td>0.0</td>\n",
       "    </tr>\n",
       "    <tr>\n",
       "      <th>302</th>\n",
       "      <td>0.583333</td>\n",
       "      <td>0.0</td>\n",
       "      <td>0.333333</td>\n",
       "      <td>0.339623</td>\n",
       "      <td>0.251142</td>\n",
       "      <td>0.0</td>\n",
       "      <td>0.0</td>\n",
       "      <td>0.786260</td>\n",
       "      <td>0.0</td>\n",
       "      <td>0.000000</td>\n",
       "      <td>0.5</td>\n",
       "      <td>0.25</td>\n",
       "      <td>0.666667</td>\n",
       "      <td>0.0</td>\n",
       "    </tr>\n",
       "  </tbody>\n",
       "</table>\n",
       "<p>303 rows × 14 columns</p>\n",
       "</div>"
      ],
      "text/plain": [
       "          age  sex        cp  trestbps      chol  fbs  restecg   thalach  \\\n",
       "0    0.708333  1.0  1.000000  0.481132  0.244292  1.0      0.0  0.603053   \n",
       "1    0.166667  1.0  0.666667  0.339623  0.283105  0.0      0.5  0.885496   \n",
       "2    0.250000  0.0  0.333333  0.339623  0.178082  0.0      0.0  0.770992   \n",
       "3    0.562500  1.0  0.333333  0.245283  0.251142  0.0      0.5  0.816794   \n",
       "4    0.583333  0.0  0.000000  0.245283  0.520548  0.0      0.5  0.702290   \n",
       "..        ...  ...       ...       ...       ...  ...      ...       ...   \n",
       "298  0.583333  0.0  0.000000  0.433962  0.262557  0.0      0.5  0.396947   \n",
       "299  0.333333  1.0  1.000000  0.150943  0.315068  0.0      0.5  0.465649   \n",
       "300  0.812500  1.0  0.000000  0.471698  0.152968  1.0      0.5  0.534351   \n",
       "301  0.583333  1.0  0.000000  0.339623  0.011416  0.0      0.5  0.335878   \n",
       "302  0.583333  0.0  0.333333  0.339623  0.251142  0.0      0.0  0.786260   \n",
       "\n",
       "     exang   oldpeak  slope    ca      thal  target  \n",
       "0      0.0  0.370968    0.0  0.00  0.333333     1.0  \n",
       "1      0.0  0.564516    0.0  0.00  0.666667     1.0  \n",
       "2      0.0  0.225806    1.0  0.00  0.666667     1.0  \n",
       "3      0.0  0.129032    1.0  0.00  0.666667     1.0  \n",
       "4      1.0  0.096774    1.0  0.00  0.666667     1.0  \n",
       "..     ...       ...    ...   ...       ...     ...  \n",
       "298    1.0  0.032258    0.5  0.00  1.000000     0.0  \n",
       "299    0.0  0.193548    0.5  0.00  1.000000     0.0  \n",
       "300    0.0  0.548387    0.5  0.50  1.000000     0.0  \n",
       "301    1.0  0.193548    0.5  0.25  1.000000     0.0  \n",
       "302    0.0  0.000000    0.5  0.25  0.666667     0.0  \n",
       "\n",
       "[303 rows x 14 columns]"
      ]
     },
     "execution_count": 8,
     "metadata": {},
     "output_type": "execute_result"
    }
   ],
   "source": [
    "from sklearn.model_selection import train_test_split\n",
    "\n",
    "X_train, X_test, y_train, y_test = train_test_split(X, y , train_size = 200, test_size = 103, random_state=seed)\n",
    "\n",
    "print(\"Data Check ...\")\n",
    "df"
   ]
  },
  {
   "cell_type": "code",
   "execution_count": 9,
   "id": "7c12b2ad-97d0-419f-bdd7-0f315d674afb",
   "metadata": {},
   "outputs": [
    {
     "name": "stdout",
     "output_type": "stream",
     "text": [
      "X_train.shape (200, 13)\n",
      "X_test.shape (103, 13)\n",
      "y_train.shape (200,)\n",
      "y_test.shape (103,)\n"
     ]
    }
   ],
   "source": [
    "print(\"X_train.shape\",X_train.shape)\n",
    "print(\"X_test.shape\",X_test.shape)\n",
    "print(\"y_train.shape\",y_train.shape)\n",
    "print(\"y_test.shape\",y_test.shape)"
   ]
  },
  {
   "cell_type": "markdown",
   "id": "b1311a5f-4b9d-4945-94d6-c48fa19d5c5e",
   "metadata": {},
   "source": [
    "Logistic regression model to the training data"
   ]
  },
  {
   "cell_type": "code",
   "execution_count": 10,
   "id": "622ea521-f3a4-402c-8080-ef523301beb3",
   "metadata": {},
   "outputs": [],
   "source": [
    "#Fitting logistic regression model on the data\n",
    "from sklearn.linear_model import LogisticRegression\n",
    "\n",
    "log_reg_model = LogisticRegression(max_iter=3000).fit(X_train, y_train)"
   ]
  },
  {
   "cell_type": "markdown",
   "id": "2e79fc69-9441-4733-9009-0cb7607ab469",
   "metadata": {},
   "source": [
    "Coefficients of the model"
   ]
  },
  {
   "cell_type": "code",
   "execution_count": 11,
   "id": "cfd632c7-8202-4c16-98c8-d51e7eddb63c",
   "metadata": {},
   "outputs": [
    {
     "name": "stdout",
     "output_type": "stream",
     "text": [
      "Coefficients of model :  [[-0.36487483 -1.04808833  1.57804869 -1.49643241 -0.21347466  0.17541418\n",
      "   0.73158831  1.24912955 -1.49609234 -1.28264507  0.66035653 -1.84989947\n",
      "  -1.22355096]]\n"
     ]
    }
   ],
   "source": [
    "#coefficients of model\n",
    "print(\"Coefficients of model : \",log_reg_model.coef_)"
   ]
  },
  {
   "cell_type": "markdown",
   "id": "d263dc3d-46ba-412f-8283-a26b26c2dc4d",
   "metadata": {},
   "source": [
    "Top 3 features"
   ]
  },
  {
   "cell_type": "code",
   "execution_count": 12,
   "id": "eacf7454-df4a-4150-97fd-3914d58146bc",
   "metadata": {},
   "outputs": [
    {
     "name": "stdout",
     "output_type": "stream",
     "text": [
      "Top 3 Features :  ['ca' 'cp' 'trestbps']\n"
     ]
    }
   ],
   "source": [
    "#printing the top 3 coefficient with absolute values to pick the top 3 features\n",
    "res = np.absolute(log_reg_model.coef_[0,:])\n",
    "indices = (-res).argsort()[:3]\n",
    "print(\"Top 3 Features : \", np.asarray(df.columns[indices]))"
   ]
  },
  {
   "cell_type": "markdown",
   "id": "281e1697-7f2a-493a-ad0d-37d9d36d82aa",
   "metadata": {},
   "source": [
    "*(b) What is the test error of your model?*"
   ]
  },
  {
   "cell_type": "code",
   "execution_count": 13,
   "id": "126b34d7-9d00-4edf-9b90-a7d59def6e09",
   "metadata": {},
   "outputs": [
    {
     "name": "stdout",
     "output_type": "stream",
     "text": [
      "Error Rate: 0.23300970873786409\n"
     ]
    }
   ],
   "source": [
    "predictions = log_reg_model.predict(X_test)\n",
    "err_predictions = np.not_equal(predictions,y_test)\n",
    "error = float(np.sum(err_predictions))/len(y_test)\n",
    "print(\"Error Rate:\" ,error)"
   ]
  },
  {
   "cell_type": "markdown",
   "id": "c7d84481-7532-4500-a5cb-f1bed206b642",
   "metadata": {},
   "source": [
    "*(c) Estimate the error by using 5-fold cross-validation on the training set. How does this compare to\n",
    "the test error?*"
   ]
  },
  {
   "cell_type": "code",
   "execution_count": 14,
   "id": "dc2c5600-431c-4db4-8214-9e02b75bfa4d",
   "metadata": {},
   "outputs": [],
   "source": [
    "#This method gives you cross validation error for k folds\n",
    "def getCrossValidationError(X_train,splits):\n",
    "    kf = KFold(n_splits=splits,shuffle=True, random_state=seed)\n",
    "    kf.get_n_splits(X_train)\n",
    "\n",
    "\n",
    "    #This is to store all the errors to average out later\n",
    "    error_arr = []\n",
    "    fold = 0\n",
    "\n",
    "    #Using training data for cross validation\n",
    "    for train_index, test_index in kf.split(X_train):\n",
    "        fold = fold + 1\n",
    "        X_train_cv, X_test_cv = X_train.iloc[train_index], X_train.iloc[test_index]\n",
    "        y_train_cv, y_test_cv = y_train.iloc[train_index], y_train.iloc[test_index]\n",
    "        log_reg_model = LogisticRegression(max_iter=3000)\n",
    "        log_reg_model.fit(X_train_cv, y_train_cv)\n",
    "        predictions = log_reg_model.predict(X_test_cv)\n",
    "        err_predictions = np.not_equal(predictions,y_test_cv)\n",
    "        error = float(np.sum(err_predictions))/len(y_test_cv)\n",
    "        error_arr.append(error)\n",
    "    cv_err = sum(error_arr) / len(error_arr)         \n",
    "    return round(cv_err,3);\n"
   ]
  },
  {
   "cell_type": "code",
   "execution_count": 15,
   "id": "84dd3109-cd7a-4d34-a9bc-734b9ea4260a",
   "metadata": {},
   "outputs": [
    {
     "name": "stdout",
     "output_type": "stream",
     "text": [
      "Cross validation error rate 0.165\n"
     ]
    }
   ],
   "source": [
    "import numpy as np\n",
    "from sklearn.model_selection import KFold\n",
    "\n",
    "print(\"Cross validation error rate\",getCrossValidationError(X_train,5))\n",
    "    "
   ]
  },
  {
   "cell_type": "markdown",
   "id": "a4370479-1858-41f5-9242-91496a5de088",
   "metadata": {},
   "source": [
    "The cross validation error rate on training data is lower than the test error rate."
   ]
  },
  {
   "cell_type": "markdown",
   "id": "3214bee7-4e67-438e-ae07-58f7e9f1ffd9",
   "metadata": {},
   "source": [
    "***Question 3***"
   ]
  },
  {
   "cell_type": "markdown",
   "id": "d3cfcb04-ec0a-48b2-a760-adc4aa884cde",
   "metadata": {},
   "source": [
    "*(a) Use this procedure to find a k-sparse logistic regression solution for the heart disease data, for\n",
    "k = 1, 2, . . . , 13. Create a single plot showing the test error and cross-validation error for all these\n",
    "values of k.*"
   ]
  },
  {
   "cell_type": "code",
   "execution_count": 16,
   "id": "d9b5fb6f-2789-45f1-b5d5-829f82a58e88",
   "metadata": {},
   "outputs": [
    {
     "name": "stdout",
     "output_type": "stream",
     "text": [
      "Chosen features: ['cp'] for k = 1\n",
      "Cross Validation error: 0.24 and Test error: 0.243\n",
      "======================================================================================================================================================\n",
      "Chosen features: ['cp', 'trestbps'] for k = 2\n",
      "Cross Validation error: 0.24 and Test error: 0.243\n",
      "======================================================================================================================================================\n",
      "Chosen features: ['cp', 'trestbps', 'exang'] for k = 3\n",
      "Cross Validation error: 0.215 and Test error: 0.301\n",
      "======================================================================================================================================================\n",
      "Chosen features: ['cp', 'trestbps', 'exang', 'thal'] for k = 4\n",
      "Cross Validation error: 0.19 and Test error: 0.272\n",
      "======================================================================================================================================================\n",
      "Chosen features: ['cp', 'trestbps', 'exang', 'thal', 'restecg'] for k = 5\n",
      "Cross Validation error: 0.185 and Test error: 0.282\n",
      "======================================================================================================================================================\n",
      "Chosen features: ['cp', 'trestbps', 'exang', 'thal', 'restecg', 'oldpeak'] for k = 6\n",
      "Cross Validation error: 0.175 and Test error: 0.262\n",
      "======================================================================================================================================================\n",
      "Chosen features: ['cp', 'trestbps', 'exang', 'thal', 'restecg', 'oldpeak', 'sex'] for k = 7\n",
      "Cross Validation error: 0.175 and Test error: 0.272\n",
      "======================================================================================================================================================\n",
      "Chosen features: ['cp', 'trestbps', 'exang', 'thal', 'restecg', 'oldpeak', 'sex', 'slope'] for k = 8\n",
      "Cross Validation error: 0.16 and Test error: 0.233\n",
      "======================================================================================================================================================\n",
      "Chosen features: ['cp', 'trestbps', 'exang', 'thal', 'restecg', 'oldpeak', 'sex', 'slope', 'age'] for k = 9\n",
      "Cross Validation error: 0.16 and Test error: 0.223\n",
      "======================================================================================================================================================\n",
      "Chosen features: ['cp', 'trestbps', 'exang', 'thal', 'restecg', 'oldpeak', 'sex', 'slope', 'age', 'chol'] for k = 10\n",
      "Cross Validation error: 0.165 and Test error: 0.223\n",
      "======================================================================================================================================================\n",
      "Chosen features: ['cp', 'trestbps', 'exang', 'thal', 'restecg', 'oldpeak', 'sex', 'slope', 'age', 'chol', 'fbs'] for k = 11\n",
      "Cross Validation error: 0.165 and Test error: 0.223\n",
      "======================================================================================================================================================\n",
      "Chosen features: ['cp', 'trestbps', 'exang', 'thal', 'restecg', 'oldpeak', 'sex', 'slope', 'age', 'chol', 'fbs', 'thalach'] for k = 12\n",
      "Cross Validation error: 0.18 and Test error: 0.243\n",
      "======================================================================================================================================================\n",
      "Chosen features: ['cp', 'trestbps', 'exang', 'thal', 'restecg', 'oldpeak', 'sex', 'slope', 'age', 'chol', 'fbs', 'thalach', 'ca'] for k = 13\n",
      "Cross Validation error: 0.165 and Test error: 0.233\n",
      "======================================================================================================================================================\n"
     ]
    }
   ],
   "source": [
    "available_features = df.columns.to_numpy()\n",
    "available_features = available_features[available_features != 'target']\n",
    "\n",
    "S = list()\n",
    "cv_error_lst = []\n",
    "test_error_lst = []\n",
    "k_values = []\n",
    "k=1\n",
    "while(len(available_features) != 0):\n",
    "    #This is to plot a graph later\n",
    "    k_values.append(k)\n",
    "    #print(available_features)\n",
    "    feature_error = {}\n",
    "    for f in available_features:\n",
    "        feature_set = S.copy()\n",
    "        feature_set.append(f)\n",
    "        #print(\"Trying out {0} features\".format(feature_set))\n",
    "        X_train_f = X_train[feature_set]\n",
    "        \n",
    "        cv_error = getCrossValidationError(X_train_f,5)\n",
    "\n",
    "        \n",
    "        #print(f,error)\n",
    "        feature_error[f] = cv_error\n",
    "    #print(feature_error)    \n",
    "    select_feature = min(feature_error, key=feature_error.get)\n",
    "    S.append(select_feature)    \n",
    "    print(\"Chosen features: {0} for k = {1}\".format(S,k))\n",
    "    cv_error_lst.append(cv_error)\n",
    "    \n",
    "    #storing the features for k = 2 for plotting decision boundary\n",
    "    if(k == 2):\n",
    "        k_2_features = np.copy(S)\n",
    "        \n",
    "    #keeping y train same as it target variable is not changing\n",
    "    log_reg_model = LogisticRegression(max_iter=3000)\n",
    "    log_reg_model.fit(X_train[S], y_train)\n",
    "    predictions = log_reg_model.predict(X_test[S])\n",
    "\n",
    "    #keeping y test since target variable is not changing\n",
    "    err_predictions = np.not_equal(predictions,y_test)\n",
    "    test_error = round(float(np.sum(err_predictions))/len(y_test),3)\n",
    "    #print(\"Test error :\",test_error)\n",
    "    test_error_lst.append(test_error)\n",
    "    \n",
    "    print(\"Cross Validation error: {1} and Test error: {2}\".format(S,feature_error[select_feature],test_error))\n",
    "    print('='*150)\n",
    "    \n",
    "    #print(\"Min error feature: \", select_feature)\n",
    "    available_features = available_features[available_features != select_feature]\n",
    "    #print(\"available_features:\",available_features)\n",
    "    \n",
    "    \n",
    "    k = k+1\n"
   ]
  },
  {
   "cell_type": "markdown",
   "id": "5887e5a6-ef7b-4cef-96cc-2e2de081325d",
   "metadata": {},
   "source": [
    "Plot showing the test error and cross-validation error for all these\n",
    "values of k."
   ]
  },
  {
   "cell_type": "code",
   "execution_count": 17,
   "id": "25866ece-7391-4be0-a7c0-9dd553c4c7c5",
   "metadata": {},
   "outputs": [
    {
     "data": {
      "image/png": "[encoded data removed]",
      "text/plain": [
       "<Figure size 432x288 with 1 Axes>"
      ]
     },
     "metadata": {
      "needs_background": "light"
     },
     "output_type": "display_data"
    }
   ],
   "source": [
    "#Plotting the CV and Test error\n",
    "import matplotlib.pyplot as plt\n",
    "# line 1 points\n",
    "\n",
    "# plotting the line 1 points \n",
    "plt.plot(k_values, test_error_lst, label = \"test error\")\n",
    "\n",
    "# plotting the line 2 points \n",
    "plt.plot(k_values, cv_error_lst, label = \"cv error\")\n",
    "plt.xlabel('k values')\n",
    "# Set the y axis label of the current axis.\n",
    "plt.ylabel('cv and test error')\n",
    "# Set a title of the current axes.\n",
    "plt.title('Plot of CV and Test error for k = 1 to 13')\n",
    "# show a legend on the plot\n",
    "plt.legend()\n",
    "# Display a figure.\n",
    "plt.show()"
   ]
  },
  {
   "cell_type": "markdown",
   "id": "8c52bb46-0d5a-42e6-84ce-c18d7369b8a7",
   "metadata": {},
   "source": [
    "*(b) What two features were chosen for k = 2? Plot the decision boundary in this case.*"
   ]
  },
  {
   "cell_type": "markdown",
   "id": "f2bf1d46-8ab2-4170-8336-ecb69810a400",
   "metadata": {},
   "source": [
    "For k = 2 ,Lets do logistic regerssion again with these two features\n"
   ]
  },
  {
   "cell_type": "code",
   "execution_count": 18,
   "id": "9093197a-6e80-472d-90b0-cb4b7a6bb348",
   "metadata": {},
   "outputs": [
    {
     "name": "stdout",
     "output_type": "stream",
     "text": [
      "For k = 2, we got features:  ['cp' 'trestbps']\n",
      "coefficients:  [2.44142992] [-1.87537002]\n"
     ]
    },
    {
     "data": {
      "image/png": "[encoded data removed]",
      "text/plain": [
       "<Figure size 432x288 with 1 Axes>"
      ]
     },
     "metadata": {
      "needs_background": "light"
     },
     "output_type": "display_data"
    }
   ],
   "source": [
    "import numpy as np\n",
    "import matplotlib.pyplot as plt\n",
    "import sklearn.linear_model\n",
    "\n",
    "#Referred https://scipython.com/blog/plotting-the-decision-boundary-of-a-logistic-regression-model/\n",
    "\n",
    "#for k = 2 , lets see what features we got\n",
    "print(\"For k = 2, we got features: \", k_2_features)\n",
    "#X = X_train[['cp','ca']].to_numpy()\n",
    "X = X_train[k_2_features].to_numpy()\n",
    "Y = y_train.to_numpy()\n",
    "\n",
    "# Fit the data to a logistic regression model.\n",
    "clf = LogisticRegression(max_iter=1000)\n",
    "clf.fit(X, Y)\n",
    "\n",
    "# Retrieve the model parameters.\n",
    "b = clf.intercept_[0]\n",
    "w1, w2 = clf.coef_.T\n",
    "print(\"coefficients: \",w1, w2)\n",
    "# Calculate the intercept and gradient of the decision boundary.\n",
    "c = -b/w2\n",
    "m = -w1/w2\n",
    "\n",
    "# Plot the data and the classification with the decision boundary.\n",
    "\n",
    "#This is to keep the scale of the graph to show all points getting min and max \n",
    "# and doing 1 unit addition or subtraction for covering all points.\n",
    "xmin,ymin = np.amin(X,axis=0) - 0.1\n",
    "xmax,ymax = np.amax(X,axis=0) + 0.1\n",
    "\n",
    "#xmin, xmax = -1,1.5\n",
    "#ymin, ymax = 90, 210\n",
    "xd = np.array([xmin, xmax])\n",
    "yd = m*xd + c\n",
    "plt.plot(xd, yd, 'k', lw=1, ls='--')\n",
    "plt.fill_between(xd, yd, ymin, color='tab:blue', alpha=0.2)\n",
    "plt.fill_between(xd, yd, ymax, color='tab:orange', alpha=0.2)\n",
    "\n",
    "plt.xlim(xmin, xmax)\n",
    "plt.ylim(ymin, ymax)\n",
    "plt.ylabel(r'$x_2$')\n",
    "plt.xlabel(r'$x_1$')\n",
    "\n",
    "\n",
    "plt.scatter(*X[Y==0].T, s=8, alpha=0.5)\n",
    "plt.scatter(*X[Y==1].T, s=8, alpha=0.5)\n",
    "plt.show()"
   ]
  },
  {
   "cell_type": "code",
   "execution_count": null,
   "id": "337c57aa-1a8d-4acb-abac-34f5e7baad03",
   "metadata": {},
   "outputs": [],
   "source": []
  }
 ],
 "metadata": {
  "kernelspec": {
   "display_name": "Python 3",
   "language": "python",
   "name": "python3"
  },
  "language_info": {
   "codemirror_mode": {
    "name": "ipython",
    "version": 3
   },
   "file_extension": ".py",
   "mimetype": "text/x-python",
   "name": "python",
   "nbconvert_exporter": "python",
   "pygments_lexer": "ipython3",
   "version": "3.8.8"
  }
 },
 "nbformat": 4,
 "nbformat_minor": 5
}
