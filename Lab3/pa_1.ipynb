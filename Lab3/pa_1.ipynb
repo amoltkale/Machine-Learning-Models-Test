{
 "cells": [
  {
   "cell_type": "markdown",
   "id": "dc570b6f-e68c-4052-ac40-bad2d01046b6",
   "metadata": {},
   "source": [
    "***1. Binary Perceptron.***"
   ]
  },
  {
   "cell_type": "markdown",
   "id": "2cdf8877-67df-4182-88f3-0c5d22450b43",
   "metadata": {},
   "source": [
    "**In this problem, you will code up the (binary) Perceptron algorithm and use it to\n",
    "classify the Iris data set.**"
   ]
  },
  {
   "cell_type": "markdown",
   "id": "454af067-a299-4861-a877-4c556ad993de",
   "metadata": {},
   "source": [
    "*(a) Write code for two functions: <br>\n",
    "•The first function takes as input parameters w,b of a linear classifier as well as a data point\n",
    "x, and returns the label for that point: sign(w ·x + b). The label is either +1 or −1. <br>\n",
    "•The second function takes as input an array of data points and an array of labels (where each\n",
    "label is +1 or −1), and runs the Perceptron algorithm to learn a linear classifier w,b. The\n",
    "algorithm should begin by randomly permuting the data points.*"
   ]
  },
  {
   "cell_type": "code",
   "execution_count": 1,
   "id": "4bbbddb6-a909-40fc-bf84-bdadd0c63713",
   "metadata": {},
   "outputs": [],
   "source": [
    "import numpy as np"
   ]
  },
  {
   "cell_type": "code",
   "execution_count": 2,
   "id": "01ba7aec-bf96-4dbe-913a-b2ee06a8ea74",
   "metadata": {},
   "outputs": [],
   "source": [
    "def predict_label(w, b, x):\n",
    "    loss = np.dot(w,x) + b\n",
    "    if loss <= 0:\n",
    "        return -1\n",
    "    else:\n",
    "        return 1"
   ]
  },
  {
   "cell_type": "code",
   "execution_count": 3,
   "id": "b13f1e76-592a-4de0-b305-9de398a9e3f5",
   "metadata": {},
   "outputs": [],
   "source": [
    "import random\n",
    "def run_perceptron(x,y):\n",
    "    w = np.zeros(2)\n",
    "    b = 0\n",
    "    #to count all the updates\n",
    "    update_cnt = 0\n",
    "    while True:\n",
    "        #to count updates for that iteration\n",
    "        cnt = 0\n",
    "        for i in random.sample(range(len(x)),len(x)):   #random permutation\n",
    "            permuted_x = x[i]\n",
    "            permuted_y = y[i]\n",
    "            predicted_label = predict_label(w,b,permuted_x)\n",
    "            if predicted_label != permuted_y:\n",
    "                w += permuted_y * permuted_x\n",
    "                b += permuted_y\n",
    "                #print(\"Random Index - {0}, W = {1}, b = {2}, predicted_label = {3}, actual_label = {4}\".format(i,w,b,predicted_label,permuted_y))\n",
    "                cnt += 1\n",
    "                update_cnt += 1\n",
    "        if cnt == 0:\n",
    "            #print(\"Perceptron ending at W = {0}, b = {1} after {2} updates !!\".format(w,b,update_cnt))\n",
    "            break\n",
    "    return w,b,update_cnt"
   ]
  },
  {
   "cell_type": "markdown",
   "id": "b1e461ad-738f-487d-b8e7-5d5662f0d7bc",
   "metadata": {},
   "source": [
    "*(b) Load in the Iris data set. You can do this by simply invoking:*"
   ]
  },
  {
   "cell_type": "code",
   "execution_count": 4,
   "id": "a5988471-e3e0-472a-917a-514699b5b6cc",
   "metadata": {},
   "outputs": [
    {
     "name": "stdout",
     "output_type": "stream",
     "text": [
      "size of x (150, 4)\n",
      "size of y (150,)\n"
     ]
    }
   ],
   "source": [
    "from sklearn import datasets\n",
    "iris = datasets.load_iris()\n",
    "x = iris.data\n",
    "y = iris.target\n",
    "\n",
    "print(\"size of x\", x.shape)\n",
    "print(\"size of y\", y.shape)"
   ]
  },
  {
   "cell_type": "code",
   "execution_count": 5,
   "id": "a94e6d08-e6cd-4fa7-bf72-6f06578549ce",
   "metadata": {},
   "outputs": [
    {
     "name": "stdout",
     "output_type": "stream",
     "text": [
      "size of x (100, 2)\n",
      "size of y (100,)\n"
     ]
    }
   ],
   "source": [
    "\n",
    "x = x[:,[1,3]]\n",
    "idxs = np.where((y==0) | (y==1))\n",
    "x = x[idxs]\n",
    "y = y[idxs]\n",
    "y[y==0] = -1\n",
    "\n",
    "print(\"size of x\", x.shape)\n",
    "print(\"size of y\", y.shape)"
   ]
  },
  {
   "cell_type": "markdown",
   "id": "ecfd0981-3375-4529-bda3-40c9a047e93e",
   "metadata": {},
   "source": [
    "*(c) Now run the Perceptron algorithm on the data. In your writeup, show a plot with the data points\n",
    "(where the two labels have different colors) and the resulting decision boundary.*"
   ]
  },
  {
   "cell_type": "code",
   "execution_count": 6,
   "id": "ea730ced-1eda-4472-8a8c-56f683a005ab",
   "metadata": {},
   "outputs": [],
   "source": [
    "#Running the perceptron\n",
    "w,b,update_cnt = run_perceptron(x,y)"
   ]
  },
  {
   "cell_type": "code",
   "execution_count": 7,
   "id": "3a4a58aa-4370-42ac-b363-7322c782c83e",
   "metadata": {},
   "outputs": [
    {
     "data": {
      "image/png": "[encoded data removed]",
      "text/plain": [
       "<Figure size 720x720 with 1 Axes>"
      ]
     },
     "metadata": {
      "needs_background": "light"
     },
     "output_type": "display_data"
    }
   ],
   "source": [
    "import numpy as np\n",
    "import matplotlib.pyplot as plt\n",
    "import sklearn.linear_model\n",
    "plt.figure(figsize=(10, 10))\n",
    "#Referred https://scipython.com/blog/plotting-the-decision-boundary-of-a-logistic-regression-model/\n",
    "\n",
    "w1,w2 = w.T\n",
    "#print(\"coefficients: \",w1, w2)\n",
    "# Calculate the intercept and gradient of the decision boundary.\n",
    "c = -b/w2\n",
    "m = -w1/w2\n",
    "\n",
    "# Plot the data and the classification with the decision boundary.\n",
    "\n",
    "#This is to keep the scale of the graph to show all points getting min and max \n",
    "xmin,ymin = min(x[:,0])-0.2, min(x[:,1])-0.2\n",
    "xmax,ymax = max(x[:,0])+0.2, max(x[:,1])+0.2\n",
    "\n",
    "xd = np.array([xmin, xmax])\n",
    "yd = m*xd + c\n",
    "plt.plot(xd, yd, 'k', lw=1, ls='--')\n",
    "plt.fill_between(xd, yd, ymin, color='tab:blue', alpha=0.2)\n",
    "plt.fill_between(xd, yd, ymax, color='tab:orange', alpha=0.2)\n",
    "\n",
    "plt.xlim(xmin, xmax)\n",
    "plt.ylim(ymin, ymax)\n",
    "plt.ylabel(r'$x_2$')\n",
    "plt.xlabel(r'$x_1$')\n",
    "\n",
    "\n",
    "plt.scatter(*x[y==-1].T, s=30, marker=\"^\", alpha=1)\n",
    "plt.scatter(*x[y==1].T, s=30, marker=\"o\", alpha=1)\n",
    "plt.show()"
   ]
  },
  {
   "cell_type": "markdown",
   "id": "a1181a53-dce0-4812-9629-5e1fe30506ae",
   "metadata": {},
   "source": [
    "*(d) Now modify your code from part (a) to count the number of updates made by the Perceptron\n",
    "algorithm while it is learning. Run the algorithm 20 times and keep track of the number of\n",
    "updates needed each time. In your writeup, include a histogram of these values.*"
   ]
  },
  {
   "cell_type": "code",
   "execution_count": 8,
   "id": "771f8e31-7003-48a9-a3aa-35e43b250da7",
   "metadata": {},
   "outputs": [],
   "source": [
    "#to store the iteration and number of updates in perceptron algorithm\n",
    "dict_updates = {}\n",
    "for j in range(20):\n",
    "    w,b,update_cnt = run_perceptron(x,y)\n",
    "    dict_updates[j] = update_cnt"
   ]
  },
  {
   "cell_type": "code",
   "execution_count": 24,
   "id": "dd507597-e755-4107-bcc2-f6e3f7073d5e",
   "metadata": {},
   "outputs": [
    {
     "data": {
      "image/png": "[encoded data removed]",
      "text/plain": [
       "<Figure size 432x288 with 1 Axes>"
      ]
     },
     "metadata": {
      "needs_background": "light"
     },
     "output_type": "display_data"
    }
   ],
   "source": [
    "import matplotlib.pyplot as plt\n",
    "import numpy as np\n",
    "from matplotlib import colors\n",
    "from matplotlib.ticker import PercentFormatter\n",
    "\n",
    "\n",
    "n_bins = 10\n",
    "\n",
    "# Generate normal distributions\n",
    "dist1 = list(dict_updates.values())\n",
    "\n",
    "\n",
    "# N is the count in each bin, bins is the lower-limit of the bin\n",
    "N, bins, patches = plt.hist(dist1, bins=n_bins, align='right')\n",
    "\n",
    "# We'll color code by height, but you could use any scalar\n",
    "fracs = N / N.max()\n",
    "\n",
    "# we need to normalize the data to 0..1 for the full range of the colormap\n",
    "norm = colors.Normalize(fracs.min(), fracs.max())\n",
    "\n",
    "# Now, we'll loop through our objects and set the color of each accordingly\n",
    "for thisfrac, thispatch in zip(fracs, patches):\n",
    "    color = plt.cm.viridis(norm(thisfrac))\n",
    "    thispatch.set_facecolor(color)\n",
    "plt.xlabel('# of updates')\n",
    "plt.ylabel('Frequency')\n",
    "plt.show()"
   ]
  },
  {
   "cell_type": "code",
   "execution_count": null,
   "id": "1b530a49-2a42-4cac-9c78-06335099f23b",
   "metadata": {},
   "outputs": [],
   "source": []
  }
 ],
 "metadata": {
  "kernelspec": {
   "display_name": "Python 3",
   "language": "python",
   "name": "python3"
  },
  "language_info": {
   "codemirror_mode": {
    "name": "ipython",
    "version": 3
   },
   "file_extension": ".py",
   "mimetype": "text/x-python",
   "name": "python",
   "nbconvert_exporter": "python",
   "pygments_lexer": "ipython3",
   "version": "3.8.8"
  }
 },
 "nbformat": 4,
 "nbformat_minor": 5
}
