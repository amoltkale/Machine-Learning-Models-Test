{
 "cells": [
  {
   "cell_type": "markdown",
   "id": "faaf2651-1b46-4821-a7ac-2d5a62db527b",
   "metadata": {},
   "source": [
    "***2. Support vector machine.***"
   ]
  },
  {
   "cell_type": "markdown",
   "id": "5e546348-9f06-4cfd-ab59-19fc366dc615",
   "metadata": {},
   "source": [
    "*As you did with the Perceptron, use the Iris data set, but this time use\n",
    "features 0 and 2, and labels 1,2.*"
   ]
  },
  {
   "cell_type": "code",
   "execution_count": 3,
   "id": "b38eb722-bbe0-4863-9286-ba71c9621dee",
   "metadata": {},
   "outputs": [
    {
     "name": "stdout",
     "output_type": "stream",
     "text": [
      "size of x (150, 4)\n",
      "size of y (150,)\n",
      "size of x (100, 2)\n",
      "size of y (100,)\n"
     ]
    }
   ],
   "source": [
    "import numpy as np\n",
    "from sklearn import datasets\n",
    "iris = datasets.load_iris()\n",
    "x = iris.data\n",
    "y = iris.target\n",
    "\n",
    "print(\"size of x\", x.shape)\n",
    "print(\"size of y\", y.shape)\n",
    "\n",
    "\n",
    "x = x[:,[0,2]]\n",
    "idxs = np.where((y==1) | (y==2))\n",
    "x = x[idxs]\n",
    "y = y[idxs]\n",
    "y[y==2] = -1\n",
    "\n",
    "print(\"size of x\", x.shape)\n",
    "print(\"size of y\", y.shape)\n"
   ]
  },
  {
   "cell_type": "markdown",
   "id": "f35d8542-7472-4a57-ab64-d513e4ba7fb6",
   "metadata": {},
   "source": [
    "*(a) Is this data linearly separable?*"
   ]
  },
  {
   "cell_type": "markdown",
   "id": "d432e7d7-f6aa-4808-98e5-2545becd5e8e",
   "metadata": {},
   "source": [
    "*(b) Use sklearn.svm.SVC to fit a support vector machine classifier to the data. You will need to\n",
    "invoke the option kernel=’linear’. Try at least 10 different values of the slack parameter C. In\n",
    "your writeup, include a table that shows these values of C and for each of them gives the training\n",
    "error and the number of support vectors.*"
   ]
  },
  {
   "cell_type": "code",
   "execution_count": 2,
   "id": "fdc503a4-fdd5-4423-a385-3e8655a32396",
   "metadata": {},
   "outputs": [
    {
     "name": "stdout",
     "output_type": "stream",
     "text": [
      "C          training error  # support vectors\n",
      "--------------------------------------------\n",
      "0.0001     0.17            100       \n",
      "0.001      0.17            100       \n",
      "0.01       0.16            92        \n",
      "0.1        0.07            56        \n",
      "1.0        0.07            32        \n",
      "10.0       0.05            18        \n",
      "100.0      0.05            14        \n",
      "1000.0     0.05            14        \n",
      "10000.0    0.05            14        \n",
      "100000.0   0.06            14        \n",
      "--------------------------------------------\n"
     ]
    }
   ],
   "source": [
    "from sklearn.svm import SVC\n",
    "C=0.0001\n",
    "header = \"{:<10} {:<15} {:<10}\".format('C', 'training error', '# support vectors')\n",
    "print(header)\n",
    "print('-' * len(header))\n",
    "for i in range(10):\n",
    "    #C = 0.1\n",
    "    svc = SVC(C=C, kernel=\"linear\")\n",
    "    svc.fit(x,y)\n",
    "    svc.support_vectors_\n",
    "    predictions = svc.predict(x)\n",
    "    err_predictions = np.not_equal(y,predictions)\n",
    "    training_error = float(np.sum(err_predictions))/len(y)\n",
    "    num_support_vectors = len(svc.support_vectors_)\n",
    "    print (\"{:<10} {:<15} {:<10}\".format(C, training_error, num_support_vectors))\n",
    "    C *= 10\n",
    "print('-' * len(header))"
   ]
  },
  {
   "cell_type": "markdown",
   "id": "aa7d02b4-663d-485f-8867-61421681341d",
   "metadata": {},
   "source": [
    "Cross Validation: Using 5-fold cross validation to choose the best value of C."
   ]
  },
  {
   "cell_type": "code",
   "execution_count": 3,
   "id": "c628b583-adba-4fb5-9e7b-b3ade70760ae",
   "metadata": {},
   "outputs": [
    {
     "name": "stdout",
     "output_type": "stream",
     "text": [
      "Number of splits 5\n",
      "---------------------------------------------\n",
      "C          CV_training_error    CV_test_error\n",
      "---------------------------------------------\n",
      "0.0001     0.46                 0.64      \n",
      "0.001      0.46                 0.64      \n",
      "0.01       0.22                 0.32      \n",
      "0.1        0.08                 0.08      \n",
      "1.0        0.06                 0.05      \n",
      "10.0       0.05                 0.07      \n",
      "100.0      0.05                 0.07      \n",
      "1000.0     0.05                 0.08      \n",
      "10000.0    0.05                 0.08      \n",
      "100000.0   0.05                 0.07      \n",
      "---------------------------------------------\n"
     ]
    }
   ],
   "source": [
    "from sklearn.model_selection import KFold\n",
    "C=0.0001\n",
    "kf = KFold(n_splits=5, random_state=42, shuffle=True)\n",
    "print(\"Number of splits\",kf.get_n_splits(x))\n",
    "\n",
    "header = \"{:<10} {:<20} {:<10}\".format('C', 'CV_training_error', 'CV_test_error')\n",
    "print('-' * len(header))\n",
    "print(header)\n",
    "print('-' * len(header))\n",
    "for i in range(10):\n",
    "    training_error_for_folds = []\n",
    "    test_error_for_folds = []\n",
    "    for train_index, test_index in kf.split(x):\n",
    "        #print(\"TRAIN:\", train_index, \"TEST:\", test_index)\n",
    "        X_train, X_test = x[train_index], x[test_index]\n",
    "        y_train, y_test = y[train_index], y[test_index]\n",
    "        svc = SVC(C=C, kernel=\"linear\")\n",
    "        svc.fit(X_train,y_train)\n",
    "        train_predictions = svc.predict(X_train)\n",
    "        test_predictions = svc.predict(X_test)\n",
    "        train_err_predictions = np.not_equal(y_train,train_predictions)\n",
    "        test_err_predictions = np.not_equal(y_test,test_predictions)\n",
    "        training_error_for_folds.append(float(np.sum(train_err_predictions))/len(y_train))\n",
    "        test_error_for_folds.append(float(np.sum(test_err_predictions))/len(y_test))\n",
    "    print (\"{:<10} {:<20} {:<10}\".format(C, round(np.average(training_error_for_folds),2), round(np.average(test_error_for_folds),2)))\n",
    "    C *= 10\n",
    "print('-' * len(header))"
   ]
  },
  {
   "cell_type": "markdown",
   "id": "dc395336-3ed7-4953-a4dd-9f4aa82780f6",
   "metadata": {},
   "source": [
    "*(c) Which value of C do you think is best? For this value, include a plot of the data points and the\n",
    "linear decision boundary.*"
   ]
  },
  {
   "cell_type": "markdown",
   "id": "39bb10fa-b9cf-41b7-9ce8-d9bbbf36d633",
   "metadata": {},
   "source": [
    "Answer: C = 1 gives the least cross validation error of 0.05. Hence using that as best value of C."
   ]
  },
  {
   "cell_type": "code",
   "execution_count": 4,
   "id": "918c1f50-bdcc-4275-bc7b-d2f89b75ada5",
   "metadata": {},
   "outputs": [],
   "source": [
    "#Since the error seems yp be lowest for C = 1. Picking that for the final decison boundary plot\n",
    "C = 1\n",
    "svc = SVC(C=C, kernel=\"linear\")\n",
    "svc.fit(x,y)\n",
    "w = svc.coef_\n",
    "b = svc.intercept_"
   ]
  },
  {
   "cell_type": "code",
   "execution_count": 5,
   "id": "061dda8a-e75d-4283-9275-7bc7adb732d3",
   "metadata": {},
   "outputs": [
    {
     "data": {
      "image/png": "[encoded data removed]",
      "text/plain": [
       "<Figure size 720x720 with 1 Axes>"
      ]
     },
     "metadata": {
      "needs_background": "light"
     },
     "output_type": "display_data"
    }
   ],
   "source": [
    "import numpy as np\n",
    "import matplotlib.pyplot as plt\n",
    "import sklearn.linear_model\n",
    "plt.figure(figsize=(10, 10))\n",
    "\n",
    "w1,w2 = w.T\n",
    "#print(\"coefficients: \",w1, w2)\n",
    "# Calculate the intercept and gradient of the decision boundary.\n",
    "c = -b/w2\n",
    "m = -w1/w2\n",
    "\n",
    "# Plot the data and the classification with the decision boundary.\n",
    "\n",
    "#This is to keep the scale of the graph to show all points getting min and max \n",
    "x_buffer = max(x[:,0])/10\n",
    "y_buffer = max(x[:,1])/10\n",
    "xmin,ymin = min(x[:,0])-x_buffer, min(x[:,1])-y_buffer\n",
    "xmax,ymax = max(x[:,0])+x_buffer, max(x[:,1])+y_buffer\n",
    "\n",
    "xd = np.array([xmin, xmax])\n",
    "yd = m*xd + c\n",
    "plt.plot(xd, yd, 'k', lw=1, ls='--')\n",
    "plt.fill_between(xd, yd, ymin, color='tab:orange', alpha=0.2)\n",
    "plt.fill_between(xd, yd, ymax, color='tab:blue', alpha=0.2)\n",
    "\n",
    "plt.xlim(xmin, xmax)\n",
    "plt.ylim(ymin, ymax)\n",
    "plt.ylabel(r'$x_2$')\n",
    "plt.xlabel(r'$x_1$')\n",
    "\n",
    "\n",
    "plt.scatter(*x[y==-1].T, s=30, marker=\"^\", alpha=1)\n",
    "plt.scatter(*x[y==1].T, s=30, marker=\"o\", alpha=1)\n",
    "plt.show()"
   ]
  },
  {
   "cell_type": "code",
   "execution_count": null,
   "id": "eea3e9d3-ca8c-4eba-9b29-23dd2e9020d5",
   "metadata": {},
   "outputs": [],
   "source": []
  }
 ],
 "metadata": {
  "kernelspec": {
   "display_name": "Python 3",
   "language": "python",
   "name": "python3"
  },
  "language_info": {
   "codemirror_mode": {
    "name": "ipython",
    "version": 3
   },
   "file_extension": ".py",
   "mimetype": "text/x-python",
   "name": "python",
   "nbconvert_exporter": "python",
   "pygments_lexer": "ipython3",
   "version": "3.8.8"
  }
 },
 "nbformat": 4,
 "nbformat_minor": 5
}
