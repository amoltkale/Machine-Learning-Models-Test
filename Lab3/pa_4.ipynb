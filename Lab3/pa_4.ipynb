{
 "cells": [
  {
   "cell_type": "markdown",
   "id": "132e48dc-c129-47b1-a801-8697114d0e1e",
   "metadata": {},
   "source": [
    "***4. Multiclass SVM.***"
   ]
  },
  {
   "cell_type": "markdown",
   "id": "9eca1be1-0cf5-4fcc-99ef-883c6ac263a2",
   "metadata": {},
   "source": [
    "*In this problem, we’ll use support vector machines to classify the MNIST data set of\n",
    "handwritten digits.*"
   ]
  },
  {
   "cell_type": "markdown",
   "id": "3e452888-2975-4ee2-8b07-1795003e6cc3",
   "metadata": {},
   "source": [
    "*(a) Load in the MNIST data: a training set of 60,000 points and a separate test set of 10,000 points.*"
   ]
  },
  {
   "cell_type": "code",
   "execution_count": 2,
   "id": "db8e8822-15c9-4b45-a9f2-412af25821b2",
   "metadata": {},
   "outputs": [],
   "source": [
    "from struct import unpack\n",
    "import numpy as np\n",
    "import matplotlib.pylab as plt \n",
    "\n",
    "def loadmnist(imagefile, labelfile):\n",
    "    # Open the images with gzip in read binary mode\n",
    "    images = open(imagefile, 'rb')\n",
    "    labels = open(labelfile, 'rb')\n",
    "\n",
    "    # Get metadata for images\n",
    "    images.read(4)  # skip the magic_number\n",
    "    number_of_images = images.read(4)\n",
    "    number_of_images = unpack('>I', number_of_images)[0]\n",
    "    rows = images.read(4)\n",
    "    rows = unpack('>I', rows)[0]\n",
    "    cols = images.read(4)\n",
    "    cols = unpack('>I', cols)[0]\n",
    "\n",
    "    # Get metadata for labels\n",
    "    labels.read(4)\n",
    "    N = labels.read(4)\n",
    "    N = unpack('>I', N)[0]\n",
    "\n",
    "    # Get data\n",
    "    x = np.zeros((N, rows*cols), dtype=np.uint8)  # Initialize numpy array\n",
    "    y = np.zeros(N, dtype=np.uint8)  # Initialize numpy array\n",
    "    for i in range(N):\n",
    "        for j in range(rows*cols):\n",
    "            tmp_pixel = images.read(1)  # Just a single byte\n",
    "            tmp_pixel = unpack('>B', tmp_pixel)[0]\n",
    "            x[i][j] = tmp_pixel\n",
    "        tmp_label = labels.read(1)\n",
    "        y[i] = unpack('>B', tmp_label)[0]\n",
    "\n",
    "    images.close()\n",
    "    labels.close()\n",
    "    return (x, y)\n",
    "\n",
    "def displaychar(image):\n",
    "    plt.imshow(np.reshape(image, (28,28)), cmap=plt.cm.gray)\n",
    "    plt.axis('off')\n",
    "    plt.show()"
   ]
  },
  {
   "cell_type": "code",
   "execution_count": 3,
   "id": "a10637f8-dc41-487f-ae3b-bb330d2be7ea",
   "metadata": {},
   "outputs": [
    {
     "name": "stdout",
     "output_type": "stream",
     "text": [
      "Length of x :60000 Length of y :60000\n"
     ]
    }
   ],
   "source": [
    "x,y = loadmnist('../MNIST/train-images-idx3-ubyte', '../MNIST/train-labels-idx1-ubyte')\n",
    "print(\"Length of x :\"+str(len(x))+ \" Length of y :\"+str(len(y)))"
   ]
  },
  {
   "cell_type": "code",
   "execution_count": 4,
   "id": "2a65ca05-9d86-46db-b436-3c7fe30b7547",
   "metadata": {},
   "outputs": [],
   "source": [
    "\n",
    "#Scaling the data\n",
    "from sklearn.preprocessing import StandardScaler\n",
    "scaler = StandardScaler()\n",
    "scaler.fit(x)\n",
    "x = scaler.transform(x)"
   ]
  },
  {
   "cell_type": "code",
   "execution_count": 5,
   "id": "df7a35ff-3220-4920-ac6a-520f2d01449d",
   "metadata": {},
   "outputs": [
    {
     "name": "stdout",
     "output_type": "stream",
     "text": [
      "Length of x_test_images :10000 Length of y_test_labels :10000\n"
     ]
    }
   ],
   "source": [
    "x_test_images,y_test_labels = loadmnist('../MNIST/t10k-images-idx3-ubyte', '../MNIST/t10k-labels-idx1-ubyte')\n",
    "print(\"Length of x_test_images :\"+str(len(x_test_images))+ \" Length of y_test_labels :\"+str(len(y_test_labels)))\n",
    "\n",
    "#scale test data\n",
    "x_test_images = scaler.transform(x_test_images)\n"
   ]
  },
  {
   "cell_type": "markdown",
   "id": "0f85f70e-5658-4296-8e2b-8731ff0bbddc",
   "metadata": {},
   "source": [
    "*(b) Learn a linear SVM classifier using sklearn.svm.LinearSVC. You will need to see loss=’hinge’.\n",
    "How can you choose a suitable value of C? Explain your methodology.*"
   ]
  },
  {
   "cell_type": "code",
   "execution_count": 6,
   "id": "859d99ac-cb89-46ba-b587-7619c58710e1",
   "metadata": {},
   "outputs": [],
   "source": [
    "from sklearn.model_selection import train_test_split\n",
    "X_train_images, X_validation_images, y_train_labels, y_validation_labels = train_test_split(x, y, train_size=50000,random_state=0)"
   ]
  },
  {
   "cell_type": "code",
   "execution_count": 8,
   "id": "3045e7d0-f19d-4175-8c3f-39241c746338",
   "metadata": {},
   "outputs": [
    {
     "name": "stdout",
     "output_type": "stream",
     "text": [
      "C          validation_error\n",
      "---------------------------\n",
      "0.0001     0.2073         \n",
      "0.0005     0.1196         \n",
      "0.001      0.1056         \n",
      "0.005      0.0903         \n",
      "0.01       0.0873         \n",
      "0.05       0.0831         \n",
      "1          0.0828         \n"
     ]
    },
    {
     "name": "stderr",
     "output_type": "stream",
     "text": [
      "/Users/a973983/opt/anaconda3/lib/python3.8/site-packages/sklearn/svm/_base.py:985: ConvergenceWarning: Liblinear failed to converge, increase the number of iterations.\n",
      "  warnings.warn(\"Liblinear failed to converge, increase \"\n"
     ]
    },
    {
     "name": "stdout",
     "output_type": "stream",
     "text": [
      "10         0.0852         \n",
      "---------------------------\n"
     ]
    }
   ],
   "source": [
    "from sklearn.svm import LinearSVC\n",
    "C_list=[0.0001, 0.0005, 0.001, 0.005, 0.01, 0.05, 1, 10]\n",
    "header = \"{:<10} {:<15}\".format('C', 'validation_error')\n",
    "print(header)\n",
    "print('-' * len(header))\n",
    "for C in C_list:\n",
    "    #C = 0.1\n",
    "    lsvc = LinearSVC(loss='hinge', C=C, random_state=0, tol=1 , max_iter=15000)\n",
    "    lsvc.fit(X_train_images,y_train_labels)\n",
    "    validation_predictions = lsvc.predict(X_validation_images)\n",
    "    err_predictions = np.not_equal(y_validation_labels,validation_predictions)\n",
    "    validation_error = float(np.sum(err_predictions))/len(y_validation_labels)\n",
    "    print (\"{:<10} {:<15}\".format(C, validation_error))\n",
    "    #C *= 5\n",
    "print('-' * len(header))"
   ]
  },
  {
   "cell_type": "markdown",
   "id": "4385a32e-a4b6-4f5c-a4b7-73b0f3859528",
   "metadata": {},
   "source": [
    "Methodology:\n",
    "    I have created a hold out set or validation set of 10k data points to check the validation error for each value of C.\n",
    "    The best value of C appears to be 1 since that has got the least validation error."
   ]
  },
  {
   "cell_type": "code",
   "execution_count": 7,
   "id": "862c2090-6087-4879-bfd8-b75a1104e380",
   "metadata": {},
   "outputs": [
    {
     "name": "stdout",
     "output_type": "stream",
     "text": [
      "Final test error for C = 1 is 0.0845\n"
     ]
    }
   ],
   "source": [
    "from sklearn.svm import LinearSVC\n",
    "C = 1\n",
    "lsvc = LinearSVC(loss='hinge', C=C, random_state=0, tol=1 , max_iter=15000)\n",
    "lsvc.fit(X_train_images,y_train_labels)\n",
    "test_predictions = lsvc.predict(x_test_images)\n",
    "err_predictions = np.not_equal(y_test_labels,test_predictions)\n",
    "test_error = float(np.sum(err_predictions))/len(y_test_labels)\n",
    "print (\"Final test error for C = {0} is {1}\".format(C, test_error))"
   ]
  },
  {
   "cell_type": "markdown",
   "id": "bf03e36f-7ac5-4ee6-a266-00e0a4ab795e",
   "metadata": {},
   "source": [
    "The data is not linearly Separable since we are using slack value here."
   ]
  },
  {
   "cell_type": "code",
   "execution_count": null,
   "id": "5f6254e6-c005-4a0b-8ed9-345b69f2b523",
   "metadata": {},
   "outputs": [],
   "source": []
  }
 ],
 "metadata": {
  "kernelspec": {
   "display_name": "Python 3",
   "language": "python",
   "name": "python3"
  },
  "language_info": {
   "codemirror_mode": {
    "name": "ipython",
    "version": 3
   },
   "file_extension": ".py",
   "mimetype": "text/x-python",
   "name": "python",
   "nbconvert_exporter": "python",
   "pygments_lexer": "ipython3",
   "version": "3.8.8"
  }
 },
 "nbformat": 4,
 "nbformat_minor": 5
}
