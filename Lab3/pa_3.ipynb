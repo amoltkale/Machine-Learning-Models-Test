{
 "cells": [
  {
   "cell_type": "markdown",
   "id": "98534c77-006a-4a5f-896f-02fd687550e5",
   "metadata": {},
   "source": [
    "***3. Multiclass Perceptron.***"
   ]
  },
  {
   "cell_type": "markdown",
   "id": "0ea18741-5fed-4f57-bdc5-614d37b9574c",
   "metadata": {},
   "source": [
    "*(a) Load in the data set data0.txt. This has 2-d data in four classes (coded as 0,1,2,3). Each row\n",
    "consists of three numbers: the two coordinates of the data points and the label.*"
   ]
  },
  {
   "cell_type": "code",
   "execution_count": 1,
   "id": "a681cbb3-8b18-472a-960d-fc47edb9eecc",
   "metadata": {},
   "outputs": [],
   "source": [
    "import numpy as np\n",
    "data = np.loadtxt('data0.txt')\n",
    "data\n",
    "X = data[:,:-1]\n",
    "Y = data[:,-1]"
   ]
  },
  {
   "cell_type": "markdown",
   "id": "d6f02556-da9c-4ed9-a8c4-9271416928d3",
   "metadata": {},
   "source": [
    "*(b) Run the multiclass Perceptron algorithm to learn a classifier. Create a plot that shows all the\n",
    "data points (with different colors and shapes for different labels) as well as the decision regions.*"
   ]
  },
  {
   "cell_type": "code",
   "execution_count": 2,
   "id": "06a39fdf-136d-4be6-b6d1-975cea205960",
   "metadata": {},
   "outputs": [],
   "source": [
    "#Initiating the weights and biases\n",
    "w1 = w2 = w3 = w4 = np.zeros(2)\n",
    "b1 = b2 = b3 = b4 = 0\n",
    "\n",
    "W = [w1,w2,w3,w4]\n",
    "B = [b1,b2,b3,b4]\n",
    "labels = [0,1,2,3]"
   ]
  },
  {
   "cell_type": "code",
   "execution_count": 3,
   "id": "85997350-ce85-413a-a396-2740e014e0fa",
   "metadata": {},
   "outputs": [],
   "source": [
    "#predicting a label with W, B for a point\n",
    "def predict_label(W,B,x):\n",
    "    maxj_lst = []\n",
    "    for (w,b) in zip(W,B):\n",
    "        #print(w)\n",
    "        maxj = np.dot(w,x) + b\n",
    "        maxj_lst.append(maxj)\n",
    "    max_idx = maxj_lst.index(max(maxj_lst))\n",
    "    return labels[max_idx]\n",
    "    \n",
    "    "
   ]
  },
  {
   "cell_type": "code",
   "execution_count": 4,
   "id": "c96328fa-6590-4eb6-82c9-66ba97a21a53",
   "metadata": {},
   "outputs": [],
   "source": [
    "#perceptron algorithm with random permutation\n",
    "import random\n",
    "def run_multiclass_perceptron(W,B,X,Y):\n",
    "    #to count all the updates\n",
    "    update_cnt = 0\n",
    "    while True:\n",
    "        #to count updates for that iteration\n",
    "        cnt = 0\n",
    "        for i in random.sample(range(len(X)),len(X)): #random permutation\n",
    "            predicted_label = predict_label(W,B,X[i])\n",
    "            #check mis-classification\n",
    "            if predicted_label != Y[i]:\n",
    "                #Get the actual label index\n",
    "                y_lbl_idx = labels.index(Y[i])\n",
    "                y_lbl_hat_idx = labels.index(predicted_label)\n",
    "                #for correct label y\n",
    "                W[y_lbl_idx] = W[y_lbl_idx] + X[i]\n",
    "                B[y_lbl_idx] = B[y_lbl_idx] + 1\n",
    "                #for predicted label y\n",
    "                W[y_lbl_hat_idx] = W[y_lbl_hat_idx] - X[i]\n",
    "                B[y_lbl_hat_idx] = B[y_lbl_hat_idx] - 1\n",
    "                #print(W)\n",
    "                cnt += 1\n",
    "                update_cnt += 1\n",
    "        if cnt == 0:\n",
    "            break\n",
    "    return W,B\n",
    "    "
   ]
  },
  {
   "cell_type": "code",
   "execution_count": 5,
   "id": "47575302-73e8-4cd8-a418-aa07c648cfe7",
   "metadata": {},
   "outputs": [],
   "source": [
    "#Finding the final W and B values\n",
    "W,B = run_multiclass_perceptron(W,B,X,Y)"
   ]
  },
  {
   "cell_type": "code",
   "execution_count": 6,
   "id": "4164381b-1e0d-4a4b-812d-8d46fd2696a3",
   "metadata": {},
   "outputs": [
    {
     "data": {
      "image/png": "[encoded data removed]",
      "text/plain": [
       "<Figure size 720x720 with 1 Axes>"
      ]
     },
     "metadata": {
      "needs_background": "light"
     },
     "output_type": "display_data"
    }
   ],
   "source": [
    "#Plotting the decision regions.\n",
    "import numpy as np\n",
    "import matplotlib.pyplot as plt\n",
    "from sklearn.linear_model import LogisticRegression\n",
    "from sklearn import datasets\n",
    "\n",
    "plt.figure(figsize=(10, 10))\n",
    "\n",
    "# Plot the decision boundary. For that, we will assign a color to each\n",
    "# point in the mesh [x_min, x_max]x[y_min, y_max].\n",
    "x_min, x_max = X[:, 0].min() - 0.5, X[:, 0].max() + 0.5\n",
    "y_min, y_max = X[:, 1].min() - 0.5, X[:, 1].max() + 0.5\n",
    "h = 0.02  # step size in the mesh\n",
    "xx, yy = np.meshgrid(np.arange(x_min, x_max, h), np.arange(y_min, y_max, h))\n",
    "\n",
    "#Since I have created a function which takes only one point for prediction, had to create list of prtedicted labels like this\n",
    "Z = np.asarray([predict_label(W,B,i) for i in np.c_[xx.ravel(), yy.ravel()]])\n",
    "\n",
    "# Put the result into a color plot\n",
    "Z = Z.reshape(xx.shape)\n",
    "plt.figure(1, figsize=(4, 3))\n",
    "plt.pcolormesh(xx, yy, Z, cmap=plt.cm.Paired, shading='nearest', alpha=0.2)\n",
    "\n",
    "# Plot also the training points\n",
    "#plt.scatter(X[:, 0], X[:, 1], c=Y, edgecolors=\"k\", cmap=plt.cm.Paired)\n",
    "plt.scatter(*X[Y==0].T, s=40, marker=\"^\", alpha=1, edgecolors=\"k\")\n",
    "plt.scatter(*X[Y==1].T, s=40, marker=\"o\", alpha=1, edgecolors=\"k\")\n",
    "plt.scatter(*X[Y==2].T, s=40, marker=\"s\", alpha=1, edgecolors=\"k\")\n",
    "plt.scatter(*X[Y==3].T, s=40, marker=\"d\", alpha=1, edgecolors=\"k\")\n",
    "\n",
    "plt.xlabel(\"X1\")\n",
    "plt.ylabel(\"X2\")\n",
    "\n",
    "plt.xlim(xx.min(), xx.max())\n",
    "plt.ylim(yy.min(), yy.max())\n",
    "\n",
    "\n",
    "plt.show()"
   ]
  },
  {
   "cell_type": "code",
   "execution_count": null,
   "id": "c608c202-bd45-4a98-b9e8-5f251659b893",
   "metadata": {},
   "outputs": [],
   "source": []
  }
 ],
 "metadata": {
  "kernelspec": {
   "display_name": "Python 3",
   "language": "python",
   "name": "python3"
  },
  "language_info": {
   "codemirror_mode": {
    "name": "ipython",
    "version": 3
   },
   "file_extension": ".py",
   "mimetype": "text/x-python",
   "name": "python",
   "nbconvert_exporter": "python",
   "pygments_lexer": "ipython3",
   "version": "3.8.8"
  }
 },
 "nbformat": 4,
 "nbformat_minor": 5
}
