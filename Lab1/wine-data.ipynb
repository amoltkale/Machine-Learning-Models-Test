{
 "cells": [
  {
   "cell_type": "code",
   "execution_count": 1,
   "id": "a9569069-28f1-4d0a-af8f-149db62d6c06",
   "metadata": {},
   "outputs": [],
   "source": [
    "import numpy as np\n",
    "data = np.loadtxt('wine.data', delimiter=',')"
   ]
  },
  {
   "cell_type": "code",
   "execution_count": 2,
   "id": "1b8a7fde-3578-4706-81b1-1cbfbd85a1ea",
   "metadata": {},
   "outputs": [],
   "source": [
    "features_data, labels = data[:,1:], data[:,0]"
   ]
  },
  {
   "cell_type": "markdown",
   "id": "5c7a0121-e7c6-46a0-ace1-b1ca2a186db0",
   "metadata": {},
   "source": [
    "**3. a) Use leave-one-out cross-validation (LOOCV) to estimate the accuracy of the classifier and\n",
    "also to estimate the 3 ×3 confusion matrix.**"
   ]
  },
  {
   "cell_type": "code",
   "execution_count": 3,
   "id": "3ac28f8e-6f7b-4be5-9080-45954e799872",
   "metadata": {},
   "outputs": [],
   "source": [
    "#Computes squared Euclidean distance between two vectors \n",
    "def squared_dist(x,y):\n",
    "    return np.sum(np.square(x-y))"
   ]
  },
  {
   "cell_type": "code",
   "execution_count": 4,
   "id": "1ac13ccf-f4f5-48e5-9822-97a9c92eb9a1",
   "metadata": {},
   "outputs": [],
   "source": [
    "#predicts the label for a data row using leave-one-out cross-validation\n",
    "def find_label_for_record_at_index(i,features_data,labels):\n",
    "    training_data = np.delete(features_data, i, 0)\n",
    "    train_lebels = np.delete(labels, i, 0)\n",
    "    x = features_data[i]\n",
    "    distances = [squared_dist(x,training_data[j,]) for j in range(len(train_lebels))]\n",
    "    index = np.argmin(distances)\n",
    "    return int(train_lebels[index])\n",
    "    "
   ]
  },
  {
   "cell_type": "code",
   "execution_count": 5,
   "id": "5a99104b-cf49-49c1-891d-297b95c1cacc",
   "metadata": {},
   "outputs": [
    {
     "name": "stdout",
     "output_type": "stream",
     "text": [
      "Accuracy of LOOCV : 0.7696629213483146\n"
     ]
    }
   ],
   "source": [
    "predictions = [find_label_for_record_at_index(i,features_data,labels) for i in range(len(labels))]\n",
    "acc_predictions = np.equal(predictions,labels)\n",
    "accuracy = float(np.sum(acc_predictions))/len(labels)\n",
    "print(\"Accuracy of LOOCV :\" ,accuracy)"
   ]
  },
  {
   "cell_type": "code",
   "execution_count": 6,
   "id": "a952024b-970e-41c1-8580-3337b6aec77e",
   "metadata": {},
   "outputs": [
    {
     "name": "stdout",
     "output_type": "stream",
     "text": [
      "Confusion matrix for LOOCV :\n"
     ]
    },
    {
     "data": {
      "text/plain": [
       "array([[52.,  3.,  4.],\n",
       "       [ 5., 54., 12.],\n",
       "       [ 3., 14., 31.]])"
      ]
     },
     "execution_count": 6,
     "metadata": {},
     "output_type": "execute_result"
    }
   ],
   "source": [
    "#Confusion Matrix\n",
    "\n",
    "#initializing the 3x3 matrix\n",
    "dimensions = (3, 3)\n",
    "confusion_matrix = np.zeros(dimensions)\n",
    "#print(confusion_matrix)\n",
    "for a,b in zip(labels,predictions):\n",
    "    #I am suubtracting 1 because our labels are 1,2,3 and indexes are 0,1,2\n",
    "    confusion_matrix[int(a)-1][b-1] = confusion_matrix[int(a)-1][b-1] + 1\n",
    "    #print(str(int(a))+\" \"+str(b))\n",
    "    \n",
    "print(\"Confusion matrix for LOOCV :\")    \n",
    "confusion_matrix"
   ]
  },
  {
   "cell_type": "markdown",
   "id": "a3a046f0-a480-41e5-8a33-bd013e6cbafb",
   "metadata": {},
   "source": [
    "**3 b) Estimate the accuracy of the 1-NN classifier using k-fold cross-validation using 20 different choices\n",
    "of k that are fairly well spread out across the range 2 to 100. Plot these estimates: put k on the\n",
    "horizontal axis and accuracy estimate on the vertical axis.**"
   ]
  },
  {
   "cell_type": "code",
   "execution_count": 7,
   "id": "8cc0f8cb-db5a-40d1-8b23-d24f0b41fc34",
   "metadata": {},
   "outputs": [
    {
     "data": {
      "image/png": "[encoded data removed]",
      "text/plain": [
       "<Figure size 432x288 with 1 Axes>"
      ]
     },
     "metadata": {
      "needs_background": "light"
     },
     "output_type": "display_data"
    }
   ],
   "source": [
    "accuracy_dict = {}\n",
    "\n",
    "#picking 20 k values for folds\n",
    "folds = [2,5,10,15,20,25,30,35,40,45,50,60,65,70,75,80,85,90,95,100]\n",
    "\n",
    "# Using for all the folds\n",
    "for k in folds:\n",
    "    k_fold_train_data = np.array_split(features_data, k)\n",
    "    k_fold_labels = np.array_split(labels, k)\n",
    "    \n",
    "    predicted_actual = []\n",
    "    \n",
    "    #print(len(k_fold_train_data))\n",
    "    for fold in range(len(k_fold_train_data)):\n",
    "\n",
    "        #print(\"fold \",fold)\n",
    "        hold_out_data = k_fold_train_data[fold]\n",
    "        hold_out_labels = k_fold_labels[fold]\n",
    "        \n",
    "        #creating copy of list to keep original list intact\n",
    "        temp_train_data = k_fold_train_data.copy()\n",
    "        temp_labels = k_fold_labels.copy()\n",
    "        \n",
    "        #removing the holdout set\n",
    "        del temp_train_data[fold]\n",
    "        del temp_labels[fold]\n",
    "\n",
    "        #flattening all the groups to create single training data exlcuing the fold we are working on\n",
    "        training_data = np.concatenate( temp_train_data, axis=0 )\n",
    "        train_labels = np.concatenate( temp_labels, axis=0 )\n",
    "        #print(\"size of hold our set \",len(k_fold_train_data[fold]))\n",
    "        for i in range(len(hold_out_data)):\n",
    "            x = hold_out_data[i]\n",
    "            distances = [squared_dist(x,training_data[j,]) for j in range(len(train_labels))]\n",
    "            index = np.argmin(distances)\n",
    "\n",
    "            predicted_actual.append([int(train_labels[index]), int(hold_out_labels[i])])\n",
    "    \n",
    "    #print(\"k = \",k)\n",
    "    predicted_actual_arr = np.asarray(predicted_actual)\n",
    "    #print(predicted_actual_arr[:,0])\n",
    "    predictions = predicted_actual_arr[:,0]\n",
    "    actual_labels = predicted_actual_arr[:,1]\n",
    "    correct_predictions = np.equal(predictions,actual_labels)\n",
    "    #print(err_predictions)\n",
    "    accuracy = float(np.sum(correct_predictions))/len(predicted_actual)\n",
    "    #print(\"Accuracy \",accuracy)\n",
    "    accuracy_dict[k] = accuracy\n",
    "\n",
    "    \n",
    "import matplotlib.pylab as plt\n",
    "\n",
    "lists = sorted(accuracy_dict.items()) # sorted by key, return a list of tuples\n",
    "\n",
    "x, y = zip(*lists) # unpack a list of pairs into two tuples\n",
    "plt.xlabel(\"k-value\")\n",
    "plt.ylabel(\"Accuracy\")\n",
    "plt.plot(x, y)\n",
    "plt.show()    "
   ]
  },
  {
   "cell_type": "markdown",
   "id": "7b5bbc71-373c-4c60-96ff-de887cc55a3a",
   "metadata": {},
   "source": [
    "**3 c) Use leave-one-out cross-validation (LOOCV) to estimate the accuracy of the classifier and\n",
    "also to estimate the 3 ×3 confusion matrix.**"
   ]
  },
  {
   "cell_type": "code",
   "execution_count": 8,
   "id": "dddf8ffd-9150-44fb-ad4c-bea26e9a99a7",
   "metadata": {},
   "outputs": [],
   "source": [
    "\n",
    "#normalizing all the columns to [0,1]\n",
    "features_data_normed = features_data / features_data.max(axis=0)"
   ]
  },
  {
   "cell_type": "code",
   "execution_count": 9,
   "id": "633e925d-9fae-4f88-8f8c-4be416a05f53",
   "metadata": {},
   "outputs": [
    {
     "name": "stdout",
     "output_type": "stream",
     "text": [
      "Accuracy of LOOCV with normalized data: 0.9606741573033708\n"
     ]
    }
   ],
   "source": [
    "#Now calculating the error with normalized feature data\n",
    "predictions = [find_label_for_record_at_index(i,features_data_normed,labels) for i in range(len(labels))]\n",
    "acc_predictions = np.equal(predictions,labels)\n",
    "acc = float(np.sum(acc_predictions))/len(labels)\n",
    "print(\"Accuracy of LOOCV with normalized data:\" ,acc)"
   ]
  },
  {
   "cell_type": "markdown",
   "id": "308c776b-e2a9-4ee3-bcbb-760117250ae5",
   "metadata": {},
   "source": [
    "Clearly the normalization has increased the accuracy to 96%"
   ]
  },
  {
   "cell_type": "code",
   "execution_count": null,
   "id": "8dbda52b-036a-4ee2-b082-370c3ec4389f",
   "metadata": {},
   "outputs": [],
   "source": []
  }
 ],
 "metadata": {
  "kernelspec": {
   "display_name": "Python 3 (ipykernel)",
   "language": "python",
   "name": "python3"
  },
  "language_info": {
   "codemirror_mode": {
    "name": "ipython",
    "version": 3
   },
   "file_extension": ".py",
   "mimetype": "text/x-python",
   "name": "python",
   "nbconvert_exporter": "python",
   "pygments_lexer": "ipython3",
   "version": "3.8.11"
  }
 },
 "nbformat": 4,
 "nbformat_minor": 5
}
