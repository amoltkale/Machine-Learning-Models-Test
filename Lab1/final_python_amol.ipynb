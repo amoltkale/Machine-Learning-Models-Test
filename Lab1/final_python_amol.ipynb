{
 "cells": [
  {
   "cell_type": "markdown",
   "id": "8cd9280d-8590-462f-93e7-4320cdc51266",
   "metadata": {},
   "source": [
    "**Question 12**"
   ]
  },
  {
   "cell_type": "markdown",
   "id": "f5b8c886-f59b-4ddb-aeaa-095c5f48e43b",
   "metadata": {},
   "source": [
    "Loading the iris data into pandas dataframe."
   ]
  },
  {
   "cell_type": "code",
   "execution_count": 1,
   "id": "3956594b-fb24-4541-84b0-e14c75cabf8e",
   "metadata": {},
   "outputs": [
    {
     "data": {
      "text/html": [
       "<div>\n",
       "<style scoped>\n",
       "    .dataframe tbody tr th:only-of-type {\n",
       "        vertical-align: middle;\n",
       "    }\n",
       "\n",
       "    .dataframe tbody tr th {\n",
       "        vertical-align: top;\n",
       "    }\n",
       "\n",
       "    .dataframe thead th {\n",
       "        text-align: right;\n",
       "    }\n",
       "</style>\n",
       "<table border=\"1\" class=\"dataframe\">\n",
       "  <thead>\n",
       "    <tr style=\"text-align: right;\">\n",
       "      <th></th>\n",
       "      <th>sepal_l</th>\n",
       "      <th>sepal_w</th>\n",
       "      <th>petal_l</th>\n",
       "      <th>petal_w</th>\n",
       "      <th>_class</th>\n",
       "    </tr>\n",
       "  </thead>\n",
       "  <tbody>\n",
       "    <tr>\n",
       "      <th>0</th>\n",
       "      <td>5.1</td>\n",
       "      <td>3.5</td>\n",
       "      <td>1.4</td>\n",
       "      <td>0.2</td>\n",
       "      <td>Iris-setosa</td>\n",
       "    </tr>\n",
       "    <tr>\n",
       "      <th>1</th>\n",
       "      <td>4.9</td>\n",
       "      <td>3.0</td>\n",
       "      <td>1.4</td>\n",
       "      <td>0.2</td>\n",
       "      <td>Iris-setosa</td>\n",
       "    </tr>\n",
       "    <tr>\n",
       "      <th>2</th>\n",
       "      <td>4.7</td>\n",
       "      <td>3.2</td>\n",
       "      <td>1.3</td>\n",
       "      <td>0.2</td>\n",
       "      <td>Iris-setosa</td>\n",
       "    </tr>\n",
       "    <tr>\n",
       "      <th>3</th>\n",
       "      <td>4.6</td>\n",
       "      <td>3.1</td>\n",
       "      <td>1.5</td>\n",
       "      <td>0.2</td>\n",
       "      <td>Iris-setosa</td>\n",
       "    </tr>\n",
       "    <tr>\n",
       "      <th>4</th>\n",
       "      <td>5.0</td>\n",
       "      <td>3.6</td>\n",
       "      <td>1.4</td>\n",
       "      <td>0.2</td>\n",
       "      <td>Iris-setosa</td>\n",
       "    </tr>\n",
       "    <tr>\n",
       "      <th>...</th>\n",
       "      <td>...</td>\n",
       "      <td>...</td>\n",
       "      <td>...</td>\n",
       "      <td>...</td>\n",
       "      <td>...</td>\n",
       "    </tr>\n",
       "    <tr>\n",
       "      <th>145</th>\n",
       "      <td>6.7</td>\n",
       "      <td>3.0</td>\n",
       "      <td>5.2</td>\n",
       "      <td>2.3</td>\n",
       "      <td>Iris-virginica</td>\n",
       "    </tr>\n",
       "    <tr>\n",
       "      <th>146</th>\n",
       "      <td>6.3</td>\n",
       "      <td>2.5</td>\n",
       "      <td>5.0</td>\n",
       "      <td>1.9</td>\n",
       "      <td>Iris-virginica</td>\n",
       "    </tr>\n",
       "    <tr>\n",
       "      <th>147</th>\n",
       "      <td>6.5</td>\n",
       "      <td>3.0</td>\n",
       "      <td>5.2</td>\n",
       "      <td>2.0</td>\n",
       "      <td>Iris-virginica</td>\n",
       "    </tr>\n",
       "    <tr>\n",
       "      <th>148</th>\n",
       "      <td>6.2</td>\n",
       "      <td>3.4</td>\n",
       "      <td>5.4</td>\n",
       "      <td>2.3</td>\n",
       "      <td>Iris-virginica</td>\n",
       "    </tr>\n",
       "    <tr>\n",
       "      <th>149</th>\n",
       "      <td>5.9</td>\n",
       "      <td>3.0</td>\n",
       "      <td>5.1</td>\n",
       "      <td>1.8</td>\n",
       "      <td>Iris-virginica</td>\n",
       "    </tr>\n",
       "  </tbody>\n",
       "</table>\n",
       "<p>150 rows × 5 columns</p>\n",
       "</div>"
      ],
      "text/plain": [
       "     sepal_l  sepal_w  petal_l  petal_w          _class\n",
       "0        5.1      3.5      1.4      0.2     Iris-setosa\n",
       "1        4.9      3.0      1.4      0.2     Iris-setosa\n",
       "2        4.7      3.2      1.3      0.2     Iris-setosa\n",
       "3        4.6      3.1      1.5      0.2     Iris-setosa\n",
       "4        5.0      3.6      1.4      0.2     Iris-setosa\n",
       "..       ...      ...      ...      ...             ...\n",
       "145      6.7      3.0      5.2      2.3  Iris-virginica\n",
       "146      6.3      2.5      5.0      1.9  Iris-virginica\n",
       "147      6.5      3.0      5.2      2.0  Iris-virginica\n",
       "148      6.2      3.4      5.4      2.3  Iris-virginica\n",
       "149      5.9      3.0      5.1      1.8  Iris-virginica\n",
       "\n",
       "[150 rows x 5 columns]"
      ]
     },
     "execution_count": 1,
     "metadata": {},
     "output_type": "execute_result"
    }
   ],
   "source": [
    "import pandas as pd\n",
    "import numpy\n",
    "irisdata = pd.read_csv(\"iris.data\",sep=\",\",names=[\"sepal_l\",\"sepal_w\",\"petal_l\",\"petal_w\",\"_class\"])\n",
    "irisdata"
   ]
  },
  {
   "cell_type": "markdown",
   "id": "5b854ef7-2a7f-48b0-b358-5d76264ac193",
   "metadata": {},
   "source": [
    "Listing unique iris flow class list"
   ]
  },
  {
   "cell_type": "code",
   "execution_count": 2,
   "id": "3f70b46e-c24c-48f0-b61d-697875f36ea2",
   "metadata": {},
   "outputs": [],
   "source": [
    "classes = irisdata._class.unique()"
   ]
  },
  {
   "cell_type": "markdown",
   "id": "a2b32b97-b8e5-455d-a187-ee2c3f1893b6",
   "metadata": {},
   "source": [
    "**Splitting the data for training and testing**"
   ]
  },
  {
   "cell_type": "markdown",
   "id": "75fefcff-a5b2-44bf-b79a-4b9f8c7cb55b",
   "metadata": {},
   "source": [
    "Creating training data and lables using first 35 records/data from each class group."
   ]
  },
  {
   "cell_type": "code",
   "execution_count": 3,
   "id": "fb71ef54-bfba-4ac4-b4d7-608636c1f2ab",
   "metadata": {},
   "outputs": [],
   "source": [
    "#training data by just picking first 35 rows from each class.\n",
    "train_data = irisdata.groupby('_class').head(35)\n",
    "x_train_data = train_data[[\"sepal_l\", \"sepal_w\",\"petal_l\",\"petal_w\"]]\n",
    "y_train_labels = train_data[[\"_class\"]]\n"
   ]
  },
  {
   "cell_type": "markdown",
   "id": "0948e9a3-b772-4e4c-bbd0-f087840b695c",
   "metadata": {},
   "source": [
    "Creating test data and lables using remaining 15 records/data from each class group."
   ]
  },
  {
   "cell_type": "code",
   "execution_count": 4,
   "id": "2a09f568-0109-45e0-a5f4-d8c44847c2cb",
   "metadata": {},
   "outputs": [],
   "source": [
    "#test data by just picking last 15 rows from each class.\n",
    "test_data = irisdata.groupby('_class').tail(15)\n",
    "x_test_data = test_data[[\"sepal_l\", \"sepal_w\",\"petal_l\",\"petal_w\"]]\n",
    "y_test_labels = test_data[[\"_class\"]]"
   ]
  },
  {
   "cell_type": "markdown",
   "id": "2ba5dfcf-765c-4c5d-9281-9b0e21d7d5db",
   "metadata": {},
   "source": [
    "Probabilities of each iris flower class"
   ]
  },
  {
   "cell_type": "code",
   "execution_count": 5,
   "id": "a71fec9b-de57-4a73-9d04-1cd3744e9cfc",
   "metadata": {},
   "outputs": [
    {
     "name": "stdout",
     "output_type": "stream",
     "text": [
      "The probability of iris type class Iris-setosa is 0.3333333333333333\n",
      "The probability of iris type class Iris-versicolor is 0.3333333333333333\n",
      "The probability of iris type class Iris-virginica is 0.3333333333333333\n"
     ]
    }
   ],
   "source": [
    "#This portion calculates the proportion or the class(iris flower type) probabilities\n",
    "\n",
    "#initializing the dictionary to save class and its probability.\n",
    "class_prob_dictionary = {}\n",
    "\n",
    "for c in classes:\n",
    "    fraction = len(y_train_labels.loc[y_train_labels['_class'] == c])/len(y_train_labels)\n",
    "    class_prob_dictionary[c] = fraction\n",
    "    print(\"The probability of iris type class \"+c+\" is \"+str(fraction))"
   ]
  },
  {
   "cell_type": "markdown",
   "id": "c04cf430-2828-4c9b-be87-0730db8cb38b",
   "metadata": {},
   "source": [
    "Routine to return the matrix for a iris flower class"
   ]
  },
  {
   "cell_type": "code",
   "execution_count": 6,
   "id": "c223ab6a-ec38-47f8-85fe-74ffcbcaf3bb",
   "metadata": {},
   "outputs": [],
   "source": [
    "#This method gives a matrix of image for corresponding class/digit label.\n",
    "def getTrainMatrixForClass(_class):\n",
    "    train_data_all_columns = train_data.loc[train_data['_class'] == _class]\n",
    "    train_matrix = train_data_all_columns[[\"sepal_l\", \"sepal_w\",\"petal_l\",\"petal_w\"]]\n",
    "    return train_matrix\n",
    "\n"
   ]
  },
  {
   "cell_type": "markdown",
   "id": "663f78fe-9cdc-4e60-b5c4-59c4680858b0",
   "metadata": {},
   "source": [
    "Code to create dictionary of class and the join probability distribution."
   ]
  },
  {
   "cell_type": "code",
   "execution_count": 8,
   "id": "6183868b-b55b-4724-a251-dc96fbbbf32c",
   "metadata": {},
   "outputs": [],
   "source": [
    "import numpy as np\n",
    "from scipy.stats import multivariate_normal\n",
    "class_joint_distribution_dict = {} #to store class as key and pdf array for test images for that class\n",
    "for c in classes:\n",
    "    class_mtrx = getTrainMatrixForClass(c)  #extracting the matrix corresponding to class = c \n",
    "    _mean = class_mtrx.mean(0)\n",
    "    _cov = np.cov(class_mtrx,rowvar=False)\n",
    "    prob_density = multivariate_normal.logpdf(x_test_data, mean=_mean, cov=_cov)\n",
    "    #calculation the joint probability Pr(y ).Pr(x |y )\n",
    "    joint_distribution = np.log(class_prob_dictionary[c]) + prob_density\n",
    "    class_joint_distribution_dict[c] = joint_distribution\n",
    "        "
   ]
  },
  {
   "cell_type": "markdown",
   "id": "a974b86c-26fb-420d-a0c4-54d693cb82c4",
   "metadata": {},
   "source": [
    "Looping through all the test data to predict the class with our generative model."
   ]
  },
  {
   "cell_type": "code",
   "execution_count": 9,
   "id": "eaf2a35a-5e10-4023-a3bf-b2d79e66b5bc",
   "metadata": {},
   "outputs": [],
   "source": [
    "validation_prediction = []\n",
    "for idx in range(len(y_test_labels)):\n",
    "    max_predict_class_dict = {}\n",
    "    for c in classes:\n",
    "        #print(class_joint_distribution_dict[c][idx])\n",
    "        max_predict_class_dict[c] = class_joint_distribution_dict[c][idx] #picking idx th element for comparison from that class\n",
    "    #print(\"for c: \"+c+ \" \"+str(max_predict_class_dict))    \n",
    "    class_with_max_pdf = max(max_predict_class_dict, key=max_predict_class_dict.get)\n",
    "    #print(\"predicted: \"+class_with_max_pdf)  \n",
    "    validation_prediction.append((y_test_labels.iloc[[idx]]['_class'].to_string(index=False),class_with_max_pdf))\n",
    "    #validation_prediction[y_test_labels.iloc[[idx]]['_class'].to_string(index=False)] = class_with_max_pdf\n"
   ]
  },
  {
   "cell_type": "markdown",
   "id": "33d54381-85f7-41d6-9d5b-953b908103a0",
   "metadata": {},
   "source": [
    "Routine to find the Error rate given the list of tuple(actual label and predicted label)"
   ]
  },
  {
   "cell_type": "code",
   "execution_count": 10,
   "id": "d5bb736d-99e7-46f4-af94-e7e454528d10",
   "metadata": {},
   "outputs": [],
   "source": [
    "#This method takes the list of tuple(actual lable, predicted label) and calculates the error rate for that predicted set.\n",
    "def calculateErrorRate(actualAndPredictedLabels):\n",
    "    match=filter(lambda x: x[0] == x[1], actualAndPredictedLabels)\n",
    "    nomatch=filter(lambda x: x[0] != x[1], actualAndPredictedLabels)\n",
    "    match_cnt = len(list(match))\n",
    "    nomatch_cnt = len(list(nomatch))\n",
    "    #print(\"c=\"+str(c_val))\n",
    "    return nomatch_cnt/len(y_test_labels)"
   ]
  },
  {
   "cell_type": "markdown",
   "id": "cb8351c2-8971-4318-8a34-631f5b7cd31c",
   "metadata": {},
   "source": [
    "**Error rate of our model**"
   ]
  },
  {
   "cell_type": "code",
   "execution_count": 11,
   "id": "18115ce1-03c1-4bf7-aea5-6b17790172de",
   "metadata": {},
   "outputs": [
    {
     "name": "stdout",
     "output_type": "stream",
     "text": [
      "Error rate with the training data and the model = 0.0 %\n"
     ]
    }
   ],
   "source": [
    "error_rate = calculateErrorRate(validation_prediction)\n",
    "print(\"Error rate with the training data and the model = \"+str(error_rate)+\" %\")"
   ]
  },
  {
   "cell_type": "code",
   "execution_count": null,
   "id": "fbe6ea4f-6665-43e0-9ed0-54446088a787",
   "metadata": {},
   "outputs": [],
   "source": []
  }
 ],
 "metadata": {
  "kernelspec": {
   "display_name": "Python 3 (ipykernel)",
   "language": "python",
   "name": "python3"
  },
  "language_info": {
   "codemirror_mode": {
    "name": "ipython",
    "version": 3
   },
   "file_extension": ".py",
   "mimetype": "text/x-python",
   "name": "python",
   "nbconvert_exporter": "python",
   "pygments_lexer": "ipython3",
   "version": "3.8.11"
  }
 },
 "nbformat": 4,
 "nbformat_minor": 5
}
