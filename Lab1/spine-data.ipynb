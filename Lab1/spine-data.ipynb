{
 "cells": [
  {
   "cell_type": "code",
   "execution_count": 1,
   "id": "e4331769-9e58-453c-addb-5fcb43e821a8",
   "metadata": {},
   "outputs": [],
   "source": [
    "import numpy as np\n",
    "# Load data set and code labels as 0 = ’NO’, 1 = ’DH’, 2 = ’SL’\n",
    "labels = [b'NO', b'DH', b'SL']\n",
    "data = np.loadtxt('spine-data.txt', converters={6: lambda s: labels.index(s)})"
   ]
  },
  {
   "cell_type": "code",
   "execution_count": 2,
   "id": "50e67dfe-329e-44ff-9b90-08ccebe7eda2",
   "metadata": {},
   "outputs": [],
   "source": [
    "X, y = data[:,:6], data[:, 6]"
   ]
  },
  {
   "cell_type": "code",
   "execution_count": 3,
   "id": "ea863136-3452-4abd-9107-91c1e6a91235",
   "metadata": {},
   "outputs": [],
   "source": [
    "from sklearn.model_selection import train_test_split\n",
    "X_train, X_test, y_train, y_test = train_test_split(X, y, train_size = 250, test_size=60, random_state=42,shuffle=False)"
   ]
  },
  {
   "cell_type": "code",
   "execution_count": 5,
   "id": "5bf8625e-ed19-43a6-a299-131fb4dba0ab",
   "metadata": {},
   "outputs": [],
   "source": [
    "## Computes squared Euclidean distance between two vectors.\n",
    "def l2_dist(x,y):\n",
    "    return np.sum(np.square(x-y))"
   ]
  },
  {
   "cell_type": "code",
   "execution_count": 6,
   "id": "fe24248a-a057-45bc-a9da-de4b155a15d6",
   "metadata": {},
   "outputs": [],
   "source": [
    "def l1_dist(x,y):\n",
    "    return np.sum(np.abs(x-y))"
   ]
  },
  {
   "cell_type": "code",
   "execution_count": 7,
   "id": "68e00140-0d1a-4b7b-8309-d6cf119fd635",
   "metadata": {},
   "outputs": [],
   "source": [
    "## Takes a vector x and returns the index of its nearest neighbor in X_train\n",
    "def find_NN(x, dist=\"l2\"):\n",
    "    if(dist==\"l2\"): \n",
    "        # Compute distances from x to every row in train_data\n",
    "        distances = [l2_dist(x,X_train[i,]) for i in range(len(y_train))]\n",
    "    else:\n",
    "        distances = [l1_dist(x,X_train[i,]) for i in range(len(y_train))]\n",
    "    return np.argmin(distances)\n",
    "\n",
    "## Takes a vector x and returns the class of its nearest neighbor in X_train\n",
    "def NN_classifier(x, distance=\"l2\"):\n",
    "    # Get the index of the the nearest neighbor\n",
    "    if(distance==\"l2\"): \n",
    "        index = find_NN(x, \"l2\")\n",
    "    else:\n",
    "        index = find_NN(x, \"l1\")\n",
    "    # Return its class\n",
    "    return y_train[index]"
   ]
  },
  {
   "cell_type": "markdown",
   "id": "97c883f8-c4f8-4f3e-8ebb-558e76906ef4",
   "metadata": {},
   "source": [
    "**2 a) What error rates do you get on the test set for each of the two distance functions?**"
   ]
  },
  {
   "cell_type": "code",
   "execution_count": 8,
   "id": "ac137375-714c-4918-81dc-22344e602268",
   "metadata": {},
   "outputs": [],
   "source": [
    "## Predict on each test data point with l2 distance\n",
    "test_predictions_l2 = [NN_classifier(X_test[i,],\"l2\") for i in range(len(y_test))]\n",
    "\n",
    "## Predict on each test data point with l1 distance\n",
    "test_predictions_l1 = [NN_classifier(X_test[i,],\"l1\") for i in range(len(y_test))]"
   ]
  },
  {
   "cell_type": "code",
   "execution_count": 9,
   "id": "091ddd0d-d1df-4812-8487-549b575ca30f",
   "metadata": {},
   "outputs": [
    {
     "name": "stdout",
     "output_type": "stream",
     "text": [
      "Error of nearest neighbor classifier with l2 distance:  0.23333333333333334\n"
     ]
    }
   ],
   "source": [
    "## Compute the error with l2 distance\n",
    "err_positions = np.not_equal(test_predictions_l2, y_test)\n",
    "error = float(np.sum(err_positions))/len(y_test)\n",
    "\n",
    "print(\"Error of nearest neighbor classifier with l2 distance: \", error)"
   ]
  },
  {
   "cell_type": "code",
   "execution_count": 10,
   "id": "5ae35636-fa07-48e8-a4e3-1dbddcbf8a6a",
   "metadata": {},
   "outputs": [
    {
     "name": "stdout",
     "output_type": "stream",
     "text": [
      "Error of nearest neighbor classifier with l1 distance:  0.21666666666666667\n"
     ]
    }
   ],
   "source": [
    "## Compute the error with l1 distance\n",
    "err_positions = np.not_equal(test_predictions_l1, y_test)\n",
    "error = float(np.sum(err_positions))/len(y_test)\n",
    "\n",
    "print(\"Error of nearest neighbor classifier with l1 distance: \", error)"
   ]
  },
  {
   "cell_type": "markdown",
   "id": "f40cc2bf-950f-4983-8f92-9d0bfe3ee792",
   "metadata": {},
   "source": [
    "**2 b) For each of the two distance functions, give the confusion matrix of the NN classifier.**"
   ]
  },
  {
   "cell_type": "code",
   "execution_count": 11,
   "id": "4d7558f0-f7d8-43f9-9c7c-b250e9afab2d",
   "metadata": {},
   "outputs": [
    {
     "name": "stdout",
     "output_type": "stream",
     "text": [
      "Confusion matrix with l2 distance:\n"
     ]
    },
    {
     "data": {
      "text/plain": [
       "array([[12.,  1.,  3.],\n",
       "       [ 9.,  9.,  0.],\n",
       "       [ 1.,  0., 25.]])"
      ]
     },
     "execution_count": 11,
     "metadata": {},
     "output_type": "execute_result"
    }
   ],
   "source": [
    "import numpy as np\n",
    "\n",
    "#initializing 10x10 matrix with just zeroes.\n",
    "dimensions = (3, 3)\n",
    "confusion_matrix_l2 = np.zeros(dimensions)\n",
    "#Looping through original test labels and test predictions to create confusion matrix\n",
    "for a, b in zip(y_test, test_predictions_l2):\n",
    "    confusion_matrix_l2[int(a)][int(b)] = confusion_matrix_l2[int(a)][int(b)] + 1\n",
    "    #print(str(a)+\" \"+str(b))\n",
    "\n",
    "#printing the 10x10 confusion matrix\n",
    "print(\"Confusion matrix with l2 distance:\")\n",
    "confusion_matrix_l2"
   ]
  },
  {
   "cell_type": "markdown",
   "id": "861faa28-adeb-45af-b69f-b23fe15fef56",
   "metadata": {},
   "source": [
    "For l2 distance :\n",
    "- label 0 i.e NO (Normal) was misclassified 4 times\n",
    "- label 1 i.e DH (herniated disk) was misclassified 9 times\n",
    "- label 2 i.e SL (spondilolysthesis) was misclassified 1 time"
   ]
  },
  {
   "cell_type": "code",
   "execution_count": 12,
   "id": "574523f5-b200-4975-a62a-a087a70315bc",
   "metadata": {},
   "outputs": [
    {
     "name": "stdout",
     "output_type": "stream",
     "text": [
      "Confusion matrix with l1 distance:\n"
     ]
    },
    {
     "data": {
      "text/plain": [
       "array([[14.,  0.,  2.],\n",
       "       [ 9.,  9.,  0.],\n",
       "       [ 1.,  1., 24.]])"
      ]
     },
     "execution_count": 12,
     "metadata": {},
     "output_type": "execute_result"
    }
   ],
   "source": [
    "import numpy as np\n",
    "\n",
    "#initializing 10x10 matrix with just zeroes.\n",
    "dimensions = (3, 3)\n",
    "confusion_matrix_l1 = np.zeros(dimensions)\n",
    "#Looping through original test labels and test predictions to create confusion matrix\n",
    "for a, b in zip(y_test, test_predictions_l1):\n",
    "    confusion_matrix_l1[int(a)][int(b)] = confusion_matrix_l1[int(a)][int(b)] + 1\n",
    "    #print(str(a)+\" \"+str(b))\n",
    "\n",
    "#printing the 10x10 confusion matrix\n",
    "print(\"Confusion matrix with l1 distance:\")\n",
    "confusion_matrix_l1"
   ]
  },
  {
   "cell_type": "markdown",
   "id": "19333e19-1aa2-41e6-8e47-5bdf132956a1",
   "metadata": {},
   "source": [
    "For l1 distance :\n",
    "- label 0 i.e NO (Normal) was misclassified 2 times\n",
    "- label 1 i.e DH (herniated disk) was misclassified 9 times\n",
    "- label 2 i.e SL (spondilolysthesis) was misclassified 2 times\n"
   ]
  },
  {
   "cell_type": "code",
   "execution_count": null,
   "id": "1b125f01-05b0-4fc9-878a-735156c302b8",
   "metadata": {},
   "outputs": [],
   "source": []
  }
 ],
 "metadata": {
  "kernelspec": {
   "display_name": "Python 3 (ipykernel)",
   "language": "python",
   "name": "python3"
  },
  "language_info": {
   "codemirror_mode": {
    "name": "ipython",
    "version": 3
   },
   "file_extension": ".py",
   "mimetype": "text/x-python",
   "name": "python",
   "nbconvert_exporter": "python",
   "pygments_lexer": "ipython3",
   "version": "3.8.11"
  }
 },
 "nbformat": 4,
 "nbformat_minor": 5
}
